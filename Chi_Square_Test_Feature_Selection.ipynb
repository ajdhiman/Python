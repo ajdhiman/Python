{
  "nbformat": 4,
  "nbformat_minor": 0,
  "metadata": {
    "colab": {
      "provenance": [],
      "authorship_tag": "ABX9TyOvtA7k5bS79soyFJMRuiht",
      "include_colab_link": true
    },
    "kernelspec": {
      "name": "python3",
      "display_name": "Python 3"
    },
    "language_info": {
      "name": "python"
    }
  },
  "cells": [
    {
      "cell_type": "markdown",
      "metadata": {
        "id": "view-in-github",
        "colab_type": "text"
      },
      "source": [
        "<a href=\"https://colab.research.google.com/github/ajdhiman/Python/blob/main/Chi_Square_Test_Feature_Selection.ipynb\" target=\"_parent\"><img src=\"https://colab.research.google.com/assets/colab-badge.svg\" alt=\"Open In Colab\"/></a>"
      ]
    },
    {
      "cell_type": "code",
      "execution_count": 1,
      "metadata": {
        "colab": {
          "base_uri": "https://localhost:8080/"
        },
        "id": "06-Py5ab7kkE",
        "outputId": "a2431e77-c9f6-4e2c-8d94-d7c61716f1ef"
      },
      "outputs": [
        {
          "output_type": "stream",
          "name": "stdout",
          "text": [
            "Chi-squared value: 3.6450000000000005\n",
            "P-value: 0.056237803877275776\n",
            "Degrees of freedom: 1\n",
            "Expected frequencies:\n",
            "[[25. 25.]\n",
            " [20. 20.]]\n"
          ]
        }
      ],
      "source": [
        "import numpy as np\n",
        "from scipy.stats import chi2_contingency\n",
        "\n",
        "# Create a contingency table (example data)\n",
        "observed = np.array([[30, 20],\n",
        "                     [15, 25]])\n",
        "\n",
        "# Perform the chi-squared test\n",
        "chi2, p, dof, expected = chi2_contingency(observed)\n",
        "\n",
        "# Print the results\n",
        "print(f\"Chi-squared value: {chi2}\")\n",
        "print(f\"P-value: {p}\")\n",
        "print(f\"Degrees of freedom: {dof}\")\n",
        "print(\"Expected frequencies:\")\n",
        "print(expected)"
      ]
    },
    {
      "cell_type": "code",
      "source": [],
      "metadata": {
        "id": "SRHbAyQ_7liC"
      },
      "execution_count": null,
      "outputs": []
    }
  ]
}