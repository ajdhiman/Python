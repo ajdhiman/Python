{
 "cells": [
  {
   "cell_type": "code",
   "execution_count": 1,
   "id": "0aebd4cd",
   "metadata": {},
   "outputs": [],
   "source": [
    "import sqlite3"
   ]
  },
  {
   "cell_type": "markdown",
   "id": "866ab2e6",
   "metadata": {},
   "source": [
    "# Create and Connect DB"
   ]
  },
  {
   "cell_type": "code",
   "execution_count": 24,
   "id": "b1330fc3",
   "metadata": {},
   "outputs": [],
   "source": [
    "db = sqlite3.connect(\"MySqlLite.db\")\n",
    "#It Creates DB in current path of notebook"
   ]
  },
  {
   "cell_type": "code",
   "execution_count": 25,
   "id": "647b4ec8",
   "metadata": {},
   "outputs": [],
   "source": [
    "c = db.cursor()"
   ]
  },
  {
   "cell_type": "markdown",
   "id": "b746f1e5",
   "metadata": {},
   "source": [
    "## Create Table"
   ]
  },
  {
   "cell_type": "code",
   "execution_count": 5,
   "id": "c5f7209a",
   "metadata": {},
   "outputs": [
    {
     "data": {
      "text/plain": [
       "<sqlite3.Cursor at 0x228e96db0a0>"
      ]
     },
     "execution_count": 5,
     "metadata": {},
     "output_type": "execute_result"
    }
   ],
   "source": [
    "c.execute('create table tbEmp(Name text , Designation  text , Salary real)')"
   ]
  },
  {
   "cell_type": "markdown",
   "id": "3bc947e8",
   "metadata": {},
   "source": [
    "## Insert into table"
   ]
  },
  {
   "cell_type": "code",
   "execution_count": 6,
   "id": "84da8fde",
   "metadata": {},
   "outputs": [
    {
     "data": {
      "text/plain": [
       "<sqlite3.Cursor at 0x228e96db0a0>"
      ]
     },
     "execution_count": 6,
     "metadata": {},
     "output_type": "execute_result"
    }
   ],
   "source": [
    "c.execute(\"insert into tbEmp values('Ajay' , 'Associate' , 15000.50)\")"
   ]
  },
  {
   "cell_type": "code",
   "execution_count": 7,
   "id": "263a9543",
   "metadata": {},
   "outputs": [
    {
     "data": {
      "text/plain": [
       "<sqlite3.Cursor at 0x228e96db0a0>"
      ]
     },
     "execution_count": 7,
     "metadata": {},
     "output_type": "execute_result"
    }
   ],
   "source": [
    "c.execute(\"insert into tbEmp values ('Ajay' , 'Associate' , 15000.50),('Ajay1' , 'Associate1' , 15001.50)\")"
   ]
  },
  {
   "cell_type": "markdown",
   "id": "4a2d1f01",
   "metadata": {},
   "source": [
    "## Select from table"
   ]
  },
  {
   "cell_type": "code",
   "execution_count": 26,
   "id": "36d9e1c9",
   "metadata": {},
   "outputs": [],
   "source": [
    "data = c.execute(\"select * from tbEmp\")"
   ]
  },
  {
   "cell_type": "code",
   "execution_count": 9,
   "id": "d8c01a2e",
   "metadata": {
    "scrolled": true
   },
   "outputs": [
    {
     "name": "stdout",
     "output_type": "stream",
     "text": [
      "('Ajay', 'Associate', 15000.5)\n",
      "('Ajay', 'Associate', 15000.5)\n",
      "('Ajay1', 'Associate1', 15001.5)\n"
     ]
    }
   ],
   "source": [
    "for i in data:\n",
    "    print(i)"
   ]
  },
  {
   "cell_type": "code",
   "execution_count": 27,
   "id": "91ce07f1",
   "metadata": {},
   "outputs": [
    {
     "data": {
      "text/plain": [
       "[('Updated-Ajay', 'Associate', 15000.5),\n",
       " ('Updated-Ajay', 'Associate', 15000.5),\n",
       " ('Ajay', 'Associate', 15002.5),\n",
       " ('Ajay1', 'Associate1', 15003.5)]"
      ]
     },
     "execution_count": 27,
     "metadata": {},
     "output_type": "execute_result"
    }
   ],
   "source": [
    "data.fetchall()"
   ]
  },
  {
   "cell_type": "code",
   "execution_count": 10,
   "id": "ed64624f",
   "metadata": {},
   "outputs": [],
   "source": [
    "db.commit()"
   ]
  },
  {
   "cell_type": "code",
   "execution_count": 11,
   "id": "b4e348a6",
   "metadata": {},
   "outputs": [],
   "source": [
    "db.close()"
   ]
  },
  {
   "cell_type": "markdown",
   "id": "408d9365",
   "metadata": {},
   "source": [
    "## Update table"
   ]
  },
  {
   "cell_type": "code",
   "execution_count": 12,
   "id": "01124d57",
   "metadata": {},
   "outputs": [],
   "source": [
    "db = sqlite3.connect(\"MySqlLite.db\")\n",
    "c = db.cursor()"
   ]
  },
  {
   "cell_type": "code",
   "execution_count": 13,
   "id": "6279a02b",
   "metadata": {},
   "outputs": [],
   "source": [
    "data = c.execute(\"update tbEmp set Name='Updated-Ajay'\")"
   ]
  },
  {
   "cell_type": "code",
   "execution_count": 14,
   "id": "59282880",
   "metadata": {},
   "outputs": [
    {
     "name": "stdout",
     "output_type": "stream",
     "text": [
      "('Updated-Ajay', 'Associate', 15000.5)\n",
      "('Updated-Ajay', 'Associate', 15000.5)\n",
      "('Updated-Ajay', 'Associate1', 15001.5)\n"
     ]
    }
   ],
   "source": [
    "data = c.execute(\"select * from tbEmp\")\n",
    "for i in data:\n",
    "    print(i)"
   ]
  },
  {
   "cell_type": "code",
   "execution_count": 15,
   "id": "b2436dfa",
   "metadata": {},
   "outputs": [],
   "source": [
    "db.commit()"
   ]
  },
  {
   "cell_type": "markdown",
   "id": "29a20c34",
   "metadata": {},
   "source": [
    "## Delete from table"
   ]
  },
  {
   "cell_type": "code",
   "execution_count": 16,
   "id": "752ecd33",
   "metadata": {},
   "outputs": [],
   "source": [
    "data = c.execute(\"delete from tbEmp where salary>=15001.5\")"
   ]
  },
  {
   "cell_type": "code",
   "execution_count": 17,
   "id": "4452e86b",
   "metadata": {},
   "outputs": [
    {
     "name": "stdout",
     "output_type": "stream",
     "text": [
      "('Updated-Ajay', 'Associate', 15000.5)\n",
      "('Updated-Ajay', 'Associate', 15000.5)\n"
     ]
    }
   ],
   "source": [
    "data = c.execute(\"select * from tbEmp\")\n",
    "for i in data:\n",
    "    print(i)"
   ]
  },
  {
   "cell_type": "code",
   "execution_count": 21,
   "id": "cd4db3c5",
   "metadata": {},
   "outputs": [],
   "source": [
    "db.commit()"
   ]
  },
  {
   "cell_type": "code",
   "execution_count": 22,
   "id": "65ed0c37",
   "metadata": {},
   "outputs": [],
   "source": [
    "db.close()"
   ]
  },
  {
   "cell_type": "code",
   "execution_count": 20,
   "id": "4c991fe2",
   "metadata": {},
   "outputs": [],
   "source": []
  },
  {
   "cell_type": "code",
   "execution_count": null,
   "id": "9066ca2f",
   "metadata": {},
   "outputs": [],
   "source": []
  }
 ],
 "metadata": {
  "kernelspec": {
   "display_name": "Python 3 (ipykernel)",
   "language": "python",
   "name": "python3"
  },
  "language_info": {
   "codemirror_mode": {
    "name": "ipython",
    "version": 3
   },
   "file_extension": ".py",
   "mimetype": "text/x-python",
   "name": "python",
   "nbconvert_exporter": "python",
   "pygments_lexer": "ipython3",
   "version": "3.9.7"
  }
 },
 "nbformat": 4,
 "nbformat_minor": 5
}
