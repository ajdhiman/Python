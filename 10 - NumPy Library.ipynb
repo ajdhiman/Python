{
 "cells": [
  {
   "cell_type": "code",
   "execution_count": 1,
   "id": "6b0fb4ad",
   "metadata": {},
   "outputs": [],
   "source": [
    "import numpy as np"
   ]
  },
  {
   "cell_type": "code",
   "execution_count": 2,
   "id": "d15ff34c",
   "metadata": {},
   "outputs": [],
   "source": [
    "l = [\"ajay\" , 1,2,3,4]"
   ]
  },
  {
   "cell_type": "code",
   "execution_count": 3,
   "id": "10c961fe",
   "metadata": {},
   "outputs": [
    {
     "data": {
      "text/plain": [
       "list"
      ]
     },
     "execution_count": 3,
     "metadata": {},
     "output_type": "execute_result"
    }
   ],
   "source": [
    "type(l)"
   ]
  },
  {
   "cell_type": "code",
   "execution_count": 4,
   "id": "2f32cc56",
   "metadata": {},
   "outputs": [
    {
     "data": {
      "text/plain": [
       "numpy.ndarray"
      ]
     },
     "execution_count": 4,
     "metadata": {},
     "output_type": "execute_result"
    }
   ],
   "source": [
    "type(np.array(l))"
   ]
  },
  {
   "cell_type": "code",
   "execution_count": 5,
   "id": "b46c8f15",
   "metadata": {},
   "outputs": [
    {
     "data": {
      "text/plain": [
       "array(['ajay', '1', '2', '3', '4'], dtype='<U11')"
      ]
     },
     "execution_count": 5,
     "metadata": {},
     "output_type": "execute_result"
    }
   ],
   "source": [
    "np.array(l)"
   ]
  },
  {
   "cell_type": "code",
   "execution_count": 7,
   "id": "0d374961",
   "metadata": {},
   "outputs": [
    {
     "data": {
      "text/plain": [
       "array([3., 4., 5., 6., 3.])"
      ]
     },
     "execution_count": 7,
     "metadata": {},
     "output_type": "execute_result"
    }
   ],
   "source": [
    "a1 = np.array([3,4,5,6,3.0])\n",
    "a1"
   ]
  },
  {
   "cell_type": "code",
   "execution_count": 8,
   "id": "8a5d8390",
   "metadata": {},
   "outputs": [
    {
     "data": {
      "text/plain": [
       "array([[1, 2, 3],\n",
       "       [2, 3, 4]])"
      ]
     },
     "execution_count": 8,
     "metadata": {},
     "output_type": "execute_result"
    }
   ],
   "source": [
    "np.array([[1,2,3],[2,3,4]])"
   ]
  },
  {
   "cell_type": "code",
   "execution_count": 9,
   "id": "cf1f503e",
   "metadata": {},
   "outputs": [
    {
     "data": {
      "text/plain": [
       "3"
      ]
     },
     "execution_count": 9,
     "metadata": {},
     "output_type": "execute_result"
    }
   ],
   "source": [
    "np.array([[1,2,3],[2,3,4]])[1][1]"
   ]
  },
  {
   "cell_type": "markdown",
   "id": "366a49d6",
   "metadata": {},
   "source": [
    "## Dimansions "
   ]
  },
  {
   "cell_type": "code",
   "execution_count": 10,
   "id": "28afcce9",
   "metadata": {},
   "outputs": [],
   "source": [
    "a2 = np.array([1,2,3,4],ndmin = 4)"
   ]
  },
  {
   "cell_type": "code",
   "execution_count": 11,
   "id": "b220dff2",
   "metadata": {},
   "outputs": [
    {
     "data": {
      "text/plain": [
       "array([[[[1, 2, 3, 4]]]])"
      ]
     },
     "execution_count": 11,
     "metadata": {},
     "output_type": "execute_result"
    }
   ],
   "source": [
    "a2"
   ]
  },
  {
   "cell_type": "code",
   "execution_count": 13,
   "id": "72df6da0",
   "metadata": {},
   "outputs": [
    {
     "data": {
      "text/plain": [
       "1"
      ]
     },
     "execution_count": 13,
     "metadata": {},
     "output_type": "execute_result"
    }
   ],
   "source": [
    "a2[0][0][0][0]"
   ]
  },
  {
   "cell_type": "markdown",
   "id": "ab7606eb",
   "metadata": {},
   "source": [
    "## Array Functions"
   ]
  },
  {
   "cell_type": "code",
   "execution_count": 14,
   "id": "bdfb04ae",
   "metadata": {},
   "outputs": [],
   "source": [
    "l=[1,2,3,4]"
   ]
  },
  {
   "cell_type": "code",
   "execution_count": 15,
   "id": "ff970d9a",
   "metadata": {},
   "outputs": [
    {
     "data": {
      "text/plain": [
       "array([1, 2, 3, 4])"
      ]
     },
     "execution_count": 15,
     "metadata": {},
     "output_type": "execute_result"
    }
   ],
   "source": [
    "np.array(l)"
   ]
  },
  {
   "cell_type": "code",
   "execution_count": 16,
   "id": "dbfb0dbc",
   "metadata": {},
   "outputs": [
    {
     "data": {
      "text/plain": [
       "array([1, 2, 3, 4])"
      ]
     },
     "execution_count": 16,
     "metadata": {},
     "output_type": "execute_result"
    }
   ],
   "source": [
    "np.asarray(l)"
   ]
  },
  {
   "cell_type": "code",
   "execution_count": 17,
   "id": "1c5dcd24",
   "metadata": {},
   "outputs": [
    {
     "data": {
      "text/plain": [
       "array([1, 2, 3, 4])"
      ]
     },
     "execution_count": 17,
     "metadata": {},
     "output_type": "execute_result"
    }
   ],
   "source": [
    "np.asanyarray(l)"
   ]
  },
  {
   "cell_type": "markdown",
   "id": "1d45ba2c",
   "metadata": {},
   "source": [
    "## Matrix"
   ]
  },
  {
   "cell_type": "code",
   "execution_count": 18,
   "id": "51d8330d",
   "metadata": {},
   "outputs": [],
   "source": [
    "l=[1,2,3,4]"
   ]
  },
  {
   "cell_type": "code",
   "execution_count": 19,
   "id": "8015603d",
   "metadata": {},
   "outputs": [
    {
     "data": {
      "text/plain": [
       "matrix([[1, 2, 3, 4]])"
      ]
     },
     "execution_count": 19,
     "metadata": {},
     "output_type": "execute_result"
    }
   ],
   "source": [
    "np.mat(l)"
   ]
  },
  {
   "cell_type": "code",
   "execution_count": 20,
   "id": "cb7b898a",
   "metadata": {},
   "outputs": [
    {
     "data": {
      "text/plain": [
       "matrix([[1, 2, 3, 4]])"
      ]
     },
     "execution_count": 20,
     "metadata": {},
     "output_type": "execute_result"
    }
   ],
   "source": [
    "np.asanyarray(np.mat(l))"
   ]
  },
  {
   "cell_type": "markdown",
   "id": "bd0b01a2",
   "metadata": {},
   "source": [
    "## FromFunction"
   ]
  },
  {
   "cell_type": "code",
   "execution_count": 22,
   "id": "7dfcffec",
   "metadata": {},
   "outputs": [
    {
     "data": {
      "text/plain": [
       "array([[ True, False, False],\n",
       "       [False,  True, False],\n",
       "       [False, False,  True]])"
      ]
     },
     "execution_count": 22,
     "metadata": {},
     "output_type": "execute_result"
    }
   ],
   "source": [
    "np.fromfunction(lambda i,j : i==j,(3,3))"
   ]
  },
  {
   "cell_type": "code",
   "execution_count": 28,
   "id": "ead30b87",
   "metadata": {},
   "outputs": [
    {
     "data": {
      "text/plain": [
       "array([[[0, 1, 2],\n",
       "        [1, 2, 3],\n",
       "        [2, 3, 4]],\n",
       "\n",
       "       [[1, 2, 3],\n",
       "        [2, 3, 4],\n",
       "        [3, 4, 5]],\n",
       "\n",
       "       [[2, 3, 4],\n",
       "        [3, 4, 5],\n",
       "        [4, 5, 6]],\n",
       "\n",
       "       [[3, 4, 5],\n",
       "        [4, 5, 6],\n",
       "        [5, 6, 7]],\n",
       "\n",
       "       [[4, 5, 6],\n",
       "        [5, 6, 7],\n",
       "        [6, 7, 8]]])"
      ]
     },
     "execution_count": 28,
     "metadata": {},
     "output_type": "execute_result"
    }
   ],
   "source": [
    "np.fromfunction(lambda i,j,k : i+j+k,(5,3,3),dtype=int)\n",
    "\n",
    "#Simple Explaination - 5 arrays of 3x3"
   ]
  },
  {
   "cell_type": "code",
   "execution_count": 29,
   "id": "ab761868",
   "metadata": {},
   "outputs": [
    {
     "data": {
      "text/plain": [
       "array([[[[ 0,  1,  2],\n",
       "         [ 1,  2,  3],\n",
       "         [ 2,  3,  4]],\n",
       "\n",
       "        [[ 1,  2,  3],\n",
       "         [ 2,  3,  4],\n",
       "         [ 3,  4,  5]],\n",
       "\n",
       "        [[ 2,  3,  4],\n",
       "         [ 3,  4,  5],\n",
       "         [ 4,  5,  6]],\n",
       "\n",
       "        [[ 3,  4,  5],\n",
       "         [ 4,  5,  6],\n",
       "         [ 5,  6,  7]]],\n",
       "\n",
       "\n",
       "       [[[ 1,  2,  3],\n",
       "         [ 2,  3,  4],\n",
       "         [ 3,  4,  5]],\n",
       "\n",
       "        [[ 2,  3,  4],\n",
       "         [ 3,  4,  5],\n",
       "         [ 4,  5,  6]],\n",
       "\n",
       "        [[ 3,  4,  5],\n",
       "         [ 4,  5,  6],\n",
       "         [ 5,  6,  7]],\n",
       "\n",
       "        [[ 4,  5,  6],\n",
       "         [ 5,  6,  7],\n",
       "         [ 6,  7,  8]]],\n",
       "\n",
       "\n",
       "       [[[ 2,  3,  4],\n",
       "         [ 3,  4,  5],\n",
       "         [ 4,  5,  6]],\n",
       "\n",
       "        [[ 3,  4,  5],\n",
       "         [ 4,  5,  6],\n",
       "         [ 5,  6,  7]],\n",
       "\n",
       "        [[ 4,  5,  6],\n",
       "         [ 5,  6,  7],\n",
       "         [ 6,  7,  8]],\n",
       "\n",
       "        [[ 5,  6,  7],\n",
       "         [ 6,  7,  8],\n",
       "         [ 7,  8,  9]]],\n",
       "\n",
       "\n",
       "       [[[ 3,  4,  5],\n",
       "         [ 4,  5,  6],\n",
       "         [ 5,  6,  7]],\n",
       "\n",
       "        [[ 4,  5,  6],\n",
       "         [ 5,  6,  7],\n",
       "         [ 6,  7,  8]],\n",
       "\n",
       "        [[ 5,  6,  7],\n",
       "         [ 6,  7,  8],\n",
       "         [ 7,  8,  9]],\n",
       "\n",
       "        [[ 6,  7,  8],\n",
       "         [ 7,  8,  9],\n",
       "         [ 8,  9, 10]]],\n",
       "\n",
       "\n",
       "       [[[ 4,  5,  6],\n",
       "         [ 5,  6,  7],\n",
       "         [ 6,  7,  8]],\n",
       "\n",
       "        [[ 5,  6,  7],\n",
       "         [ 6,  7,  8],\n",
       "         [ 7,  8,  9]],\n",
       "\n",
       "        [[ 6,  7,  8],\n",
       "         [ 7,  8,  9],\n",
       "         [ 8,  9, 10]],\n",
       "\n",
       "        [[ 7,  8,  9],\n",
       "         [ 8,  9, 10],\n",
       "         [ 9, 10, 11]]]])"
      ]
     },
     "execution_count": 29,
     "metadata": {},
     "output_type": "execute_result"
    }
   ],
   "source": [
    "np.fromfunction(lambda i,j,k,l : i+j+k+l,(5,4,3,3),dtype=int)\n",
    "\n",
    "#Simple Explaination - 4 arrays of 3x3, with 5 combinations(repetition)"
   ]
  },
  {
   "cell_type": "code",
   "execution_count": 30,
   "id": "abc4de0a",
   "metadata": {},
   "outputs": [],
   "source": [
    "a=np.fromfunction(lambda i,j,k,l : i+j+k+l,(5,4,3,3),dtype=int)"
   ]
  },
  {
   "cell_type": "code",
   "execution_count": 31,
   "id": "174e08fa",
   "metadata": {},
   "outputs": [
    {
     "data": {
      "text/plain": [
       "4"
      ]
     },
     "execution_count": 31,
     "metadata": {},
     "output_type": "execute_result"
    }
   ],
   "source": [
    "a.ndim"
   ]
  },
  {
   "cell_type": "code",
   "execution_count": 32,
   "id": "e7b8178b",
   "metadata": {},
   "outputs": [
    {
     "data": {
      "text/plain": [
       "180"
      ]
     },
     "execution_count": 32,
     "metadata": {},
     "output_type": "execute_result"
    }
   ],
   "source": [
    "a.size"
   ]
  },
  {
   "cell_type": "code",
   "execution_count": 33,
   "id": "56013564",
   "metadata": {},
   "outputs": [
    {
     "data": {
      "text/plain": [
       "(5, 4, 3, 3)"
      ]
     },
     "execution_count": 33,
     "metadata": {},
     "output_type": "execute_result"
    }
   ],
   "source": [
    "a.shape"
   ]
  },
  {
   "cell_type": "code",
   "execution_count": 34,
   "id": "3fbe3388",
   "metadata": {},
   "outputs": [
    {
     "data": {
      "text/plain": [
       "dtype('int32')"
      ]
     },
     "execution_count": 34,
     "metadata": {},
     "output_type": "execute_result"
    }
   ],
   "source": [
    "a.dtype"
   ]
  },
  {
   "cell_type": "markdown",
   "id": "a4e4b21d",
   "metadata": {},
   "source": [
    "## Random Data"
   ]
  },
  {
   "cell_type": "code",
   "execution_count": 35,
   "id": "f565e0d6",
   "metadata": {},
   "outputs": [
    {
     "data": {
      "text/plain": [
       "array([[0.9151246 , 0.12773075, 0.66705784, 0.05728718],\n",
       "       [0.29013007, 0.79407128, 0.87345629, 0.41024347],\n",
       "       [0.8728978 , 0.51459621, 0.94027159, 0.73733886],\n",
       "       [0.80460698, 0.06797793, 0.22316713, 0.81194957],\n",
       "       [0.57122703, 0.65235295, 0.82434073, 0.16588883],\n",
       "       [0.93336489, 0.30287188, 0.10352892, 0.6680432 ],\n",
       "       [0.77655822, 0.99935013, 0.73185962, 0.70248822],\n",
       "       [0.63273187, 0.88400337, 0.09680558, 0.88921505],\n",
       "       [0.93124076, 0.10424992, 0.23920197, 0.20341898],\n",
       "       [0.56676166, 0.69524117, 0.90993196, 0.54437193]])"
      ]
     },
     "execution_count": 35,
     "metadata": {},
     "output_type": "execute_result"
    }
   ],
   "source": [
    "np.random.rand(10,4)"
   ]
  },
  {
   "cell_type": "code",
   "execution_count": 37,
   "id": "4c4f3720",
   "metadata": {},
   "outputs": [
    {
     "data": {
      "text/plain": [
       "20"
      ]
     },
     "execution_count": 37,
     "metadata": {},
     "output_type": "execute_result"
    }
   ],
   "source": [
    "np.random.randint(4,50)"
   ]
  },
  {
   "cell_type": "code",
   "execution_count": 38,
   "id": "b2958971",
   "metadata": {},
   "outputs": [
    {
     "data": {
      "text/plain": [
       "array([[ 0.23285326, -0.07951384, -1.07460191, -1.79142449, -0.12940291],\n",
       "       [-1.04071345,  1.63034474,  0.29052307, -0.35744707, -0.45663964],\n",
       "       [-0.24305337, -0.66089467, -0.64672566,  0.2981644 , -0.3387249 ],\n",
       "       [-0.87082409, -0.98018224,  0.21835047,  0.97983484, -0.60917739]])"
      ]
     },
     "execution_count": 38,
     "metadata": {},
     "output_type": "execute_result"
    }
   ],
   "source": [
    "np.random.randn(4,5)\n",
    "#gives random normally distributed"
   ]
  },
  {
   "cell_type": "markdown",
   "id": "654b7ca2",
   "metadata": {},
   "source": [
    "## Reshape Array to 2D"
   ]
  },
  {
   "cell_type": "code",
   "execution_count": 39,
   "id": "0a1dcbb6",
   "metadata": {},
   "outputs": [],
   "source": [
    "a=np.fromfunction(lambda i,j,k,l : i+j+k+l,(5,4,3,3),dtype=int)"
   ]
  },
  {
   "cell_type": "code",
   "execution_count": 42,
   "id": "bbbb0156",
   "metadata": {},
   "outputs": [
    {
     "data": {
      "text/plain": [
       "array([[ 0,  1,  2,  1,  2,  3,  2,  3,  4,  1],\n",
       "       [ 2,  3,  2,  3,  4,  3,  4,  5,  2,  3],\n",
       "       [ 4,  3,  4,  5,  4,  5,  6,  3,  4,  5],\n",
       "       [ 4,  5,  6,  5,  6,  7,  1,  2,  3,  2],\n",
       "       [ 3,  4,  3,  4,  5,  2,  3,  4,  3,  4],\n",
       "       [ 5,  4,  5,  6,  3,  4,  5,  4,  5,  6],\n",
       "       [ 5,  6,  7,  4,  5,  6,  5,  6,  7,  6],\n",
       "       [ 7,  8,  2,  3,  4,  3,  4,  5,  4,  5],\n",
       "       [ 6,  3,  4,  5,  4,  5,  6,  5,  6,  7],\n",
       "       [ 4,  5,  6,  5,  6,  7,  6,  7,  8,  5],\n",
       "       [ 6,  7,  6,  7,  8,  7,  8,  9,  3,  4],\n",
       "       [ 5,  4,  5,  6,  5,  6,  7,  4,  5,  6],\n",
       "       [ 5,  6,  7,  6,  7,  8,  5,  6,  7,  6],\n",
       "       [ 7,  8,  7,  8,  9,  6,  7,  8,  7,  8],\n",
       "       [ 9,  8,  9, 10,  4,  5,  6,  5,  6,  7],\n",
       "       [ 6,  7,  8,  5,  6,  7,  6,  7,  8,  7],\n",
       "       [ 8,  9,  6,  7,  8,  7,  8,  9,  8,  9],\n",
       "       [10,  7,  8,  9,  8,  9, 10,  9, 10, 11]])"
      ]
     },
     "execution_count": 42,
     "metadata": {},
     "output_type": "execute_result"
    }
   ],
   "source": [
    "a.reshape(18,10)\n",
    "#2D\n",
    "#Rows x Col should be equal to size of array"
   ]
  },
  {
   "cell_type": "code",
   "execution_count": 44,
   "id": "8b7e4aea",
   "metadata": {},
   "outputs": [
    {
     "data": {
      "text/plain": [
       "array([[[ 0,  1,  2,  1,  2,  3,  2,  3,  4,  1],\n",
       "        [ 2,  3,  2,  3,  4,  3,  4,  5,  2,  3]],\n",
       "\n",
       "       [[ 4,  3,  4,  5,  4,  5,  6,  3,  4,  5],\n",
       "        [ 4,  5,  6,  5,  6,  7,  1,  2,  3,  2]],\n",
       "\n",
       "       [[ 3,  4,  3,  4,  5,  2,  3,  4,  3,  4],\n",
       "        [ 5,  4,  5,  6,  3,  4,  5,  4,  5,  6]],\n",
       "\n",
       "       [[ 5,  6,  7,  4,  5,  6,  5,  6,  7,  6],\n",
       "        [ 7,  8,  2,  3,  4,  3,  4,  5,  4,  5]],\n",
       "\n",
       "       [[ 6,  3,  4,  5,  4,  5,  6,  5,  6,  7],\n",
       "        [ 4,  5,  6,  5,  6,  7,  6,  7,  8,  5]],\n",
       "\n",
       "       [[ 6,  7,  6,  7,  8,  7,  8,  9,  3,  4],\n",
       "        [ 5,  4,  5,  6,  5,  6,  7,  4,  5,  6]],\n",
       "\n",
       "       [[ 5,  6,  7,  6,  7,  8,  5,  6,  7,  6],\n",
       "        [ 7,  8,  7,  8,  9,  6,  7,  8,  7,  8]],\n",
       "\n",
       "       [[ 9,  8,  9, 10,  4,  5,  6,  5,  6,  7],\n",
       "        [ 6,  7,  8,  5,  6,  7,  6,  7,  8,  7]],\n",
       "\n",
       "       [[ 8,  9,  6,  7,  8,  7,  8,  9,  8,  9],\n",
       "        [10,  7,  8,  9,  8,  9, 10,  9, 10, 11]]])"
      ]
     },
     "execution_count": 44,
     "metadata": {},
     "output_type": "execute_result"
    }
   ],
   "source": [
    "a.reshape(9,2,10)\n",
    "#3D\n",
    "#a x b x c  should be equal to size of array"
   ]
  },
  {
   "cell_type": "code",
   "execution_count": 45,
   "id": "7e4e41bf",
   "metadata": {},
   "outputs": [
    {
     "data": {
      "text/plain": [
       "array([[ 0,  1,  2,  1,  2,  3,  2,  3,  4,  1,  2,  3,  2,  3,  4,  3,\n",
       "         4,  5,  2,  3],\n",
       "       [ 4,  3,  4,  5,  4,  5,  6,  3,  4,  5,  4,  5,  6,  5,  6,  7,\n",
       "         1,  2,  3,  2],\n",
       "       [ 3,  4,  3,  4,  5,  2,  3,  4,  3,  4,  5,  4,  5,  6,  3,  4,\n",
       "         5,  4,  5,  6],\n",
       "       [ 5,  6,  7,  4,  5,  6,  5,  6,  7,  6,  7,  8,  2,  3,  4,  3,\n",
       "         4,  5,  4,  5],\n",
       "       [ 6,  3,  4,  5,  4,  5,  6,  5,  6,  7,  4,  5,  6,  5,  6,  7,\n",
       "         6,  7,  8,  5],\n",
       "       [ 6,  7,  6,  7,  8,  7,  8,  9,  3,  4,  5,  4,  5,  6,  5,  6,\n",
       "         7,  4,  5,  6],\n",
       "       [ 5,  6,  7,  6,  7,  8,  5,  6,  7,  6,  7,  8,  7,  8,  9,  6,\n",
       "         7,  8,  7,  8],\n",
       "       [ 9,  8,  9, 10,  4,  5,  6,  5,  6,  7,  6,  7,  8,  5,  6,  7,\n",
       "         6,  7,  8,  7],\n",
       "       [ 8,  9,  6,  7,  8,  7,  8,  9,  8,  9, 10,  7,  8,  9,  8,  9,\n",
       "        10,  9, 10, 11]])"
      ]
     },
     "execution_count": 45,
     "metadata": {},
     "output_type": "execute_result"
    }
   ],
   "source": [
    "a.reshape(9,-1)\n",
    "# -1 automatically manage multiple of 9"
   ]
  },
  {
   "cell_type": "markdown",
   "id": "6f3f88f6",
   "metadata": {},
   "source": [
    "## Range"
   ]
  },
  {
   "cell_type": "code",
   "execution_count": 46,
   "id": "e4821ac4",
   "metadata": {},
   "outputs": [
    {
     "data": {
      "text/plain": [
       "[4, 5, 6, 7, 8, 9]"
      ]
     },
     "execution_count": 46,
     "metadata": {},
     "output_type": "execute_result"
    }
   ],
   "source": [
    "list(range(4,10))"
   ]
  },
  {
   "cell_type": "code",
   "execution_count": 49,
   "id": "a889d246",
   "metadata": {},
   "outputs": [
    {
     "data": {
      "text/plain": [
       "[4, 6, 8]"
      ]
     },
     "execution_count": 49,
     "metadata": {},
     "output_type": "execute_result"
    }
   ],
   "source": [
    "list(range(4,10,2))"
   ]
  },
  {
   "cell_type": "code",
   "execution_count": 54,
   "id": "284b2e90",
   "metadata": {},
   "outputs": [
    {
     "data": {
      "text/plain": [
       "array([4. , 4.2, 4.4, 4.6, 4.8, 5. , 5.2, 5.4, 5.6, 5.8, 6. , 6.2, 6.4,\n",
       "       6.6, 6.8, 7. , 7.2, 7.4, 7.6, 7.8, 8. , 8.2, 8.4, 8.6, 8.8, 9. ,\n",
       "       9.2, 9.4, 9.6, 9.8])"
      ]
     },
     "execution_count": 54,
     "metadata": {},
     "output_type": "execute_result"
    }
   ],
   "source": [
    "a1 = np.arange(4,10,.2)\n",
    "a1"
   ]
  },
  {
   "cell_type": "code",
   "execution_count": 55,
   "id": "6a908e68",
   "metadata": {},
   "outputs": [
    {
     "data": {
      "text/plain": [
       "array([4.2, 4.4, 4.6])"
      ]
     },
     "execution_count": 55,
     "metadata": {},
     "output_type": "execute_result"
    }
   ],
   "source": [
    "a1[1:4]"
   ]
  },
  {
   "cell_type": "markdown",
   "id": "e355a173",
   "metadata": {},
   "source": [
    "## Misc"
   ]
  },
  {
   "cell_type": "code",
   "execution_count": 56,
   "id": "2ad2df31",
   "metadata": {},
   "outputs": [],
   "source": [
    "arr = np.random.rand(4,5)"
   ]
  },
  {
   "cell_type": "code",
   "execution_count": 57,
   "id": "1640fb53",
   "metadata": {},
   "outputs": [
    {
     "data": {
      "text/plain": [
       "array([0.58586432, 0.76130574, 0.57475885, 0.63614094, 0.78740087,\n",
       "       0.9316148 , 0.94023982, 0.85555315, 0.5017183 , 0.92595911,\n",
       "       0.79756302])"
      ]
     },
     "execution_count": 57,
     "metadata": {},
     "output_type": "execute_result"
    }
   ],
   "source": [
    "arr[arr>.5]"
   ]
  },
  {
   "cell_type": "code",
   "execution_count": 58,
   "id": "6cc46891",
   "metadata": {},
   "outputs": [
    {
     "data": {
      "text/plain": [
       "array([[0.58586432, 0.16184564, 0.76130574, 0.57475885, 0.19501418],\n",
       "       [0.63614094, 0.43369954, 0.22026689, 0.78740087, 0.9316148 ],\n",
       "       [0.38325843, 0.11644419, 0.94023982, 0.40718463, 0.85555315],\n",
       "       [0.02888781, 0.5017183 , 0.92595911, 0.38547926, 0.79756302]])"
      ]
     },
     "execution_count": 58,
     "metadata": {},
     "output_type": "execute_result"
    }
   ],
   "source": [
    "arr"
   ]
  },
  {
   "cell_type": "code",
   "execution_count": 59,
   "id": "b651acfb",
   "metadata": {},
   "outputs": [
    {
     "data": {
      "text/plain": [
       "array([0.22026689, 0.94023982])"
      ]
     },
     "execution_count": 59,
     "metadata": {},
     "output_type": "execute_result"
    }
   ],
   "source": [
    "arr[[1,2] , [2]]"
   ]
  },
  {
   "cell_type": "code",
   "execution_count": 71,
   "id": "6fd0cb0a",
   "metadata": {},
   "outputs": [
    {
     "data": {
      "text/plain": [
       "array([[0.59884888, 0.48538124, 0.87634647, 0.4347135 , 0.55494017],\n",
       "       [0.26075755, 0.52993476, 0.32345488, 0.75820746, 0.75728259],\n",
       "       [0.47353387, 0.23218529, 0.68670968, 0.93524201, 0.07211961],\n",
       "       [0.41986014, 0.22955624, 0.57057249, 0.11714885, 0.72381948],\n",
       "       [0.13792981, 0.48741463, 0.48359545, 0.64016531, 0.00142543],\n",
       "       [0.85078076, 0.15244778, 0.39992974, 0.92734316, 0.49196284],\n",
       "       [0.47463295, 0.51328109, 0.79447312, 0.15447723, 0.87608696],\n",
       "       [0.50566029, 0.55503977, 0.8697737 , 0.55367165, 0.30183794]])"
      ]
     },
     "execution_count": 71,
     "metadata": {},
     "output_type": "execute_result"
    }
   ],
   "source": [
    "arr = np.random.rand(8,5)\n",
    "arr"
   ]
  },
  {
   "cell_type": "code",
   "execution_count": 72,
   "id": "f7bfd518",
   "metadata": {},
   "outputs": [
    {
     "data": {
      "text/plain": [
       "array([[0.26075755, 0.52993476, 0.32345488],\n",
       "       [0.47353387, 0.23218529, 0.68670968],\n",
       "       [0.41986014, 0.22955624, 0.57057249],\n",
       "       [0.13792981, 0.48741463, 0.48359545],\n",
       "       [0.85078076, 0.15244778, 0.39992974],\n",
       "       [0.47463295, 0.51328109, 0.79447312],\n",
       "       [0.50566029, 0.55503977, 0.8697737 ]])"
      ]
     },
     "execution_count": 72,
     "metadata": {},
     "output_type": "execute_result"
    }
   ],
   "source": [
    "arr[1:8 , 0:3]"
   ]
  },
  {
   "cell_type": "code",
   "execution_count": 73,
   "id": "f10cc982",
   "metadata": {},
   "outputs": [],
   "source": [
    "arr[0][0] = 100"
   ]
  },
  {
   "cell_type": "code",
   "execution_count": 74,
   "id": "43dc2273",
   "metadata": {},
   "outputs": [
    {
     "data": {
      "text/plain": [
       "array([[1.00000000e+02, 4.85381241e-01, 8.76346469e-01, 4.34713501e-01,\n",
       "        5.54940172e-01],\n",
       "       [2.60757549e-01, 5.29934758e-01, 3.23454883e-01, 7.58207463e-01,\n",
       "        7.57282588e-01],\n",
       "       [4.73533874e-01, 2.32185295e-01, 6.86709681e-01, 9.35242007e-01,\n",
       "        7.21196118e-02],\n",
       "       [4.19860136e-01, 2.29556241e-01, 5.70572492e-01, 1.17148852e-01,\n",
       "        7.23819481e-01],\n",
       "       [1.37929811e-01, 4.87414630e-01, 4.83595446e-01, 6.40165313e-01,\n",
       "        1.42542941e-03],\n",
       "       [8.50780761e-01, 1.52447781e-01, 3.99929737e-01, 9.27343164e-01,\n",
       "        4.91962837e-01],\n",
       "       [4.74632954e-01, 5.13281088e-01, 7.94473121e-01, 1.54477231e-01,\n",
       "        8.76086961e-01],\n",
       "       [5.05660292e-01, 5.55039769e-01, 8.69773695e-01, 5.53671654e-01,\n",
       "        3.01837942e-01]])"
      ]
     },
     "execution_count": 74,
     "metadata": {},
     "output_type": "execute_result"
    }
   ],
   "source": [
    "arr"
   ]
  },
  {
   "cell_type": "markdown",
   "id": "c30ca0f3",
   "metadata": {},
   "source": [
    "## Matrix Element Mutiplication"
   ]
  },
  {
   "cell_type": "code",
   "execution_count": 75,
   "id": "346c40a1",
   "metadata": {},
   "outputs": [],
   "source": [
    "a = np.array([[1,2] ,[3,4]])\n",
    "b = np.array([[2,3] , [4,5]])"
   ]
  },
  {
   "cell_type": "code",
   "execution_count": 76,
   "id": "392e0c08",
   "metadata": {},
   "outputs": [
    {
     "data": {
      "text/plain": [
       "array([[ 2,  6],\n",
       "       [12, 20]])"
      ]
     },
     "execution_count": 76,
     "metadata": {},
     "output_type": "execute_result"
    }
   ],
   "source": [
    "a*b"
   ]
  },
  {
   "cell_type": "markdown",
   "id": "5cfe4818",
   "metadata": {},
   "source": [
    "## Matrix Multiplication"
   ]
  },
  {
   "cell_type": "code",
   "execution_count": 77,
   "id": "13629f2c",
   "metadata": {},
   "outputs": [
    {
     "data": {
      "text/plain": [
       "array([[10, 13],\n",
       "       [22, 29]])"
      ]
     },
     "execution_count": 77,
     "metadata": {},
     "output_type": "execute_result"
    }
   ],
   "source": [
    "a@b"
   ]
  },
  {
   "cell_type": "markdown",
   "id": "7f2d30d2",
   "metadata": {},
   "source": [
    "## Division by Zero on NumPy is Infinity"
   ]
  },
  {
   "cell_type": "code",
   "execution_count": 78,
   "id": "874ec4f1",
   "metadata": {},
   "outputs": [
    {
     "name": "stderr",
     "output_type": "stream",
     "text": [
      "C:\\Users\\eraja\\AppData\\Local\\Temp/ipykernel_9508/4102073204.py:1: RuntimeWarning: divide by zero encountered in true_divide\n",
      "  a/0\n"
     ]
    },
    {
     "data": {
      "text/plain": [
       "array([[inf, inf],\n",
       "       [inf, inf]])"
      ]
     },
     "execution_count": 78,
     "metadata": {},
     "output_type": "execute_result"
    }
   ],
   "source": [
    "a/0"
   ]
  },
  {
   "cell_type": "markdown",
   "id": "b753e2d4",
   "metadata": {},
   "source": []
  },
  {
   "cell_type": "code",
   "execution_count": 2,
   "id": "df6dbc66",
   "metadata": {},
   "outputs": [
    {
     "data": {
      "text/plain": [
       "array([0., 0., 0., 0., 0.])"
      ]
     },
     "execution_count": 2,
     "metadata": {},
     "output_type": "execute_result"
    }
   ],
   "source": [
    "np.zeros(5)"
   ]
  },
  {
   "cell_type": "code",
   "execution_count": 4,
   "id": "36b08d01",
   "metadata": {},
   "outputs": [
    {
     "data": {
      "text/plain": [
       "array([[0., 0., 0., 0.],\n",
       "       [0., 0., 0., 0.],\n",
       "       [0., 0., 0., 0.],\n",
       "       [0., 0., 0., 0.],\n",
       "       [0., 0., 0., 0.]])"
      ]
     },
     "execution_count": 4,
     "metadata": {},
     "output_type": "execute_result"
    }
   ],
   "source": [
    "np.zeros((5,4))"
   ]
  },
  {
   "cell_type": "code",
   "execution_count": 5,
   "id": "bc2f264d",
   "metadata": {},
   "outputs": [
    {
     "data": {
      "text/plain": [
       "array([[[0., 0., 0.],\n",
       "        [0., 0., 0.],\n",
       "        [0., 0., 0.],\n",
       "        [0., 0., 0.]],\n",
       "\n",
       "       [[0., 0., 0.],\n",
       "        [0., 0., 0.],\n",
       "        [0., 0., 0.],\n",
       "        [0., 0., 0.]],\n",
       "\n",
       "       [[0., 0., 0.],\n",
       "        [0., 0., 0.],\n",
       "        [0., 0., 0.],\n",
       "        [0., 0., 0.]],\n",
       "\n",
       "       [[0., 0., 0.],\n",
       "        [0., 0., 0.],\n",
       "        [0., 0., 0.],\n",
       "        [0., 0., 0.]],\n",
       "\n",
       "       [[0., 0., 0.],\n",
       "        [0., 0., 0.],\n",
       "        [0., 0., 0.],\n",
       "        [0., 0., 0.]]])"
      ]
     },
     "execution_count": 5,
     "metadata": {},
     "output_type": "execute_result"
    }
   ],
   "source": [
    "np.zeros((5,4,3))"
   ]
  },
  {
   "cell_type": "code",
   "execution_count": 6,
   "id": "dceb8642",
   "metadata": {},
   "outputs": [
    {
     "data": {
      "text/plain": [
       "array([1., 1., 1., 1.])"
      ]
     },
     "execution_count": 6,
     "metadata": {},
     "output_type": "execute_result"
    }
   ],
   "source": [
    "np.ones(4)"
   ]
  },
  {
   "cell_type": "code",
   "execution_count": 7,
   "id": "41b0081d",
   "metadata": {},
   "outputs": [
    {
     "data": {
      "text/plain": [
       "array([[1., 1.],\n",
       "       [1., 1.],\n",
       "       [1., 1.]])"
      ]
     },
     "execution_count": 7,
     "metadata": {},
     "output_type": "execute_result"
    }
   ],
   "source": [
    "np.ones((3,2))"
   ]
  },
  {
   "cell_type": "code",
   "execution_count": 8,
   "id": "d906daaa",
   "metadata": {},
   "outputs": [
    {
     "data": {
      "text/plain": [
       "array([[[1., 1., 1., 1.],\n",
       "        [1., 1., 1., 1.]],\n",
       "\n",
       "       [[1., 1., 1., 1.],\n",
       "        [1., 1., 1., 1.]],\n",
       "\n",
       "       [[1., 1., 1., 1.],\n",
       "        [1., 1., 1., 1.]]])"
      ]
     },
     "execution_count": 8,
     "metadata": {},
     "output_type": "execute_result"
    }
   ],
   "source": [
    "np.ones((3,2,4))"
   ]
  },
  {
   "cell_type": "code",
   "execution_count": 10,
   "id": "094e77f5",
   "metadata": {},
   "outputs": [
    {
     "data": {
      "text/plain": [
       "array([[0.00e+000, 0.00e+000, 0.00e+000, 0.00e+000],\n",
       "       [0.00e+000, 6.66e-321, 0.00e+000, 0.00e+000]])"
      ]
     },
     "execution_count": 10,
     "metadata": {},
     "output_type": "execute_result"
    }
   ],
   "source": [
    "np.empty((2,4))"
   ]
  },
  {
   "cell_type": "code",
   "execution_count": 12,
   "id": "5f9b8c95",
   "metadata": {},
   "outputs": [
    {
     "data": {
      "text/plain": [
       "array([1., 1., 1., 1.])"
      ]
     },
     "execution_count": 12,
     "metadata": {},
     "output_type": "execute_result"
    }
   ],
   "source": [
    "np.empty(4)"
   ]
  },
  {
   "cell_type": "code",
   "execution_count": 17,
   "id": "aaa65592",
   "metadata": {},
   "outputs": [
    {
     "data": {
      "text/plain": [
       "array([2.        , 2.44444444, 2.88888889, 3.33333333, 3.77777778,\n",
       "       4.22222222, 4.66666667, 5.11111111, 5.55555556, 6.        ])"
      ]
     },
     "execution_count": 17,
     "metadata": {},
     "output_type": "execute_result"
    }
   ],
   "source": [
    "#Generate 10 numbers b/w 2 to 6\n",
    "#without 3rd parameter i.e. 10 it will consider it as 50\n",
    "np.linspace(2,6,10)"
   ]
  },
  {
   "cell_type": "code",
   "execution_count": 19,
   "id": "9de37e7e",
   "metadata": {},
   "outputs": [
    {
     "data": {
      "text/plain": [
       "array([2. , 2.4, 2.8, 3.2, 3.6, 4. , 4.4, 4.8, 5.2, 5.6])"
      ]
     },
     "execution_count": 19,
     "metadata": {},
     "output_type": "execute_result"
    }
   ],
   "source": [
    "#Ignore the upperbound value i.e. 6\n",
    "np.linspace(2,6,10,endpoint=False)"
   ]
  },
  {
   "cell_type": "code",
   "execution_count": 20,
   "id": "fa8466d9",
   "metadata": {},
   "outputs": [
    {
     "data": {
      "text/plain": [
       "(array([2. , 2.4, 2.8, 3.2, 3.6, 4. , 4.4, 4.8, 5.2, 5.6]), 0.4)"
      ]
     },
     "execution_count": 20,
     "metadata": {},
     "output_type": "execute_result"
    }
   ],
   "source": [
    "#Setp Size\n",
    "np.linspace(2,6,10,endpoint=False,retstep=True)"
   ]
  },
  {
   "cell_type": "code",
   "execution_count": 23,
   "id": "bc94c953",
   "metadata": {},
   "outputs": [
    {
     "data": {
      "text/plain": [
       "array([ 4.        ,  5.44316   ,  7.4069977 , 10.0793684 , 13.71590373,\n",
       "       18.66446463, 25.39841683, 34.56191164, 47.03150375, 64.        ])"
      ]
     },
     "execution_count": 23,
     "metadata": {},
     "output_type": "execute_result"
    }
   ],
   "source": [
    "np.logspace(2,6,10,base=2)"
   ]
  },
  {
   "cell_type": "code",
   "execution_count": 30,
   "id": "c1eea08e",
   "metadata": {},
   "outputs": [
    {
     "data": {
      "text/plain": [
       "array([[ 4,  5,  6,  7],\n",
       "       [ 8,  9, 10, 11],\n",
       "       [12, 13, 14, 15],\n",
       "       [16, 17, 18, 19]])"
      ]
     },
     "execution_count": 30,
     "metadata": {},
     "output_type": "execute_result"
    }
   ],
   "source": [
    "a= np.arange(4,20).reshape(4,4)\n",
    "a"
   ]
  },
  {
   "cell_type": "code",
   "execution_count": 31,
   "id": "01fdfdc6",
   "metadata": {},
   "outputs": [
    {
     "data": {
      "text/plain": [
       "19"
      ]
     },
     "execution_count": 31,
     "metadata": {},
     "output_type": "execute_result"
    }
   ],
   "source": [
    "a.max()"
   ]
  },
  {
   "cell_type": "code",
   "execution_count": 33,
   "id": "b835966e",
   "metadata": {},
   "outputs": [
    {
     "data": {
      "text/plain": [
       "array([[[ 4,  5],\n",
       "        [ 6,  7],\n",
       "        [ 8,  9],\n",
       "        [10, 11],\n",
       "        [12, 13],\n",
       "        [14, 15]],\n",
       "\n",
       "       [[16, 17],\n",
       "        [18, 19],\n",
       "        [20, 21],\n",
       "        [22, 23],\n",
       "        [24, 25],\n",
       "        [26, 27]],\n",
       "\n",
       "       [[28, 29],\n",
       "        [30, 31],\n",
       "        [32, 33],\n",
       "        [34, 35],\n",
       "        [36, 37],\n",
       "        [38, 39]]])"
      ]
     },
     "execution_count": 33,
     "metadata": {},
     "output_type": "execute_result"
    }
   ],
   "source": [
    "a= np.arange(4,40).reshape(3,6,2)\n",
    "a"
   ]
  },
  {
   "cell_type": "code",
   "execution_count": 34,
   "id": "e5dae751",
   "metadata": {},
   "outputs": [
    {
     "data": {
      "text/plain": [
       "39"
      ]
     },
     "execution_count": 34,
     "metadata": {},
     "output_type": "execute_result"
    }
   ],
   "source": [
    "a.max()"
   ]
  },
  {
   "cell_type": "code",
   "execution_count": 35,
   "id": "eb826ac4",
   "metadata": {},
   "outputs": [
    {
     "data": {
      "text/plain": [
       "array([[14, 15],\n",
       "       [26, 27],\n",
       "       [38, 39]])"
      ]
     },
     "execution_count": 35,
     "metadata": {},
     "output_type": "execute_result"
    }
   ],
   "source": [
    "a.max(axis=1)"
   ]
  },
  {
   "cell_type": "code",
   "execution_count": 36,
   "id": "f063fc81",
   "metadata": {},
   "outputs": [
    {
     "data": {
      "text/plain": [
       "array([[28, 29],\n",
       "       [30, 31],\n",
       "       [32, 33],\n",
       "       [34, 35],\n",
       "       [36, 37],\n",
       "       [38, 39]])"
      ]
     },
     "execution_count": 36,
     "metadata": {},
     "output_type": "execute_result"
    }
   ],
   "source": [
    "a.max(axis=0)"
   ]
  },
  {
   "cell_type": "code",
   "execution_count": 37,
   "id": "0c89ec34",
   "metadata": {},
   "outputs": [
    {
     "data": {
      "text/plain": [
       "array([[ 4,  5,  6,  7,  8,  9],\n",
       "       [10, 11, 12, 13, 14, 15],\n",
       "       [16, 17, 18, 19, 20, 21],\n",
       "       [22, 23, 24, 25, 26, 27],\n",
       "       [28, 29, 30, 31, 32, 33],\n",
       "       [34, 35, 36, 37, 38, 39]])"
      ]
     },
     "execution_count": 37,
     "metadata": {},
     "output_type": "execute_result"
    }
   ],
   "source": [
    "a= np.arange(4,40).reshape(6,6)\n",
    "a"
   ]
  },
  {
   "cell_type": "code",
   "execution_count": 38,
   "id": "95905fe1",
   "metadata": {},
   "outputs": [
    {
     "data": {
      "text/plain": [
       "array([34, 35, 36, 37, 38, 39])"
      ]
     },
     "execution_count": 38,
     "metadata": {},
     "output_type": "execute_result"
    }
   ],
   "source": [
    "a.max(axis=0)"
   ]
  },
  {
   "cell_type": "code",
   "execution_count": 39,
   "id": "a21f0f44",
   "metadata": {},
   "outputs": [
    {
     "data": {
      "text/plain": [
       "array([ 9, 15, 21, 27, 33, 39])"
      ]
     },
     "execution_count": 39,
     "metadata": {},
     "output_type": "execute_result"
    }
   ],
   "source": [
    "a.max(axis=1)"
   ]
  },
  {
   "cell_type": "code",
   "execution_count": 40,
   "id": "ccfbd4d5",
   "metadata": {},
   "outputs": [
    {
     "data": {
      "text/plain": [
       "array([[ 4,  5,  6,  7,  8,  9],\n",
       "       [10, 11, 12, 13, 14, 15],\n",
       "       [16, 17, 18, 19, 20, 21],\n",
       "       [22, 23, 24, 25, 26, 27],\n",
       "       [28, 29, 30, 31, 32, 33],\n",
       "       [34, 35, 36, 37, 38, 39]])"
      ]
     },
     "execution_count": 40,
     "metadata": {},
     "output_type": "execute_result"
    }
   ],
   "source": [
    "a"
   ]
  },
  {
   "cell_type": "markdown",
   "id": "890a582f",
   "metadata": {},
   "source": [
    "### Operations"
   ]
  },
  {
   "cell_type": "code",
   "execution_count": 41,
   "id": "89a04ebe",
   "metadata": {},
   "outputs": [
    {
     "data": {
      "text/plain": [
       "array([[14, 15, 16, 17, 18, 19],\n",
       "       [20, 21, 22, 23, 24, 25],\n",
       "       [26, 27, 28, 29, 30, 31],\n",
       "       [32, 33, 34, 35, 36, 37],\n",
       "       [38, 39, 40, 41, 42, 43],\n",
       "       [44, 45, 46, 47, 48, 49]])"
      ]
     },
     "execution_count": 41,
     "metadata": {},
     "output_type": "execute_result"
    }
   ],
   "source": [
    "10+a"
   ]
  },
  {
   "cell_type": "code",
   "execution_count": 42,
   "id": "30de1380",
   "metadata": {},
   "outputs": [
    {
     "data": {
      "text/plain": [
       "array([[  16,   25,   36,   49,   64,   81],\n",
       "       [ 100,  121,  144,  169,  196,  225],\n",
       "       [ 256,  289,  324,  361,  400,  441],\n",
       "       [ 484,  529,  576,  625,  676,  729],\n",
       "       [ 784,  841,  900,  961, 1024, 1089],\n",
       "       [1156, 1225, 1296, 1369, 1444, 1521]], dtype=int32)"
      ]
     },
     "execution_count": 42,
     "metadata": {},
     "output_type": "execute_result"
    }
   ],
   "source": [
    "a**2"
   ]
  },
  {
   "cell_type": "code",
   "execution_count": 44,
   "id": "8a745c95",
   "metadata": {},
   "outputs": [
    {
     "data": {
      "text/plain": [
       "array([[    256,     625,    1296,    2401,    4096,    6561],\n",
       "       [  10000,   14641,   20736,   28561,   38416,   50625],\n",
       "       [  65536,   83521,  104976,  130321,  160000,  194481],\n",
       "       [ 234256,  279841,  331776,  390625,  456976,  531441],\n",
       "       [ 614656,  707281,  810000,  923521, 1048576, 1185921],\n",
       "       [1336336, 1500625, 1679616, 1874161, 2085136, 2313441]],\n",
       "      dtype=int32)"
      ]
     },
     "execution_count": 44,
     "metadata": {},
     "output_type": "execute_result"
    }
   ],
   "source": [
    "pow(a,4)"
   ]
  },
  {
   "cell_type": "code",
   "execution_count": 48,
   "id": "8890108d",
   "metadata": {},
   "outputs": [],
   "source": [
    "b=np.array([2,3,5,2,1,3])"
   ]
  },
  {
   "cell_type": "code",
   "execution_count": null,
   "id": "9030e0e8",
   "metadata": {},
   "outputs": [],
   "source": []
  },
  {
   "cell_type": "code",
   "execution_count": 52,
   "id": "9230d60f",
   "metadata": {},
   "outputs": [
    {
     "data": {
      "text/plain": [
       "array([[ 4,  5,  6,  7,  8,  9],\n",
       "       [10, 11, 12, 13, 14, 15],\n",
       "       [16, 17, 18, 19, 20, 21],\n",
       "       [22, 23, 24, 25, 26, 27],\n",
       "       [28, 29, 30, 31, 32, 33],\n",
       "       [34, 35, 36, 37, 38, 39]])"
      ]
     },
     "execution_count": 52,
     "metadata": {},
     "output_type": "execute_result"
    }
   ],
   "source": [
    "a"
   ]
  },
  {
   "cell_type": "code",
   "execution_count": 50,
   "id": "41491c88",
   "metadata": {},
   "outputs": [
    {
     "data": {
      "text/plain": [
       "array([[ 6,  8, 11,  9,  9, 12],\n",
       "       [12, 14, 17, 15, 15, 18],\n",
       "       [18, 20, 23, 21, 21, 24],\n",
       "       [24, 26, 29, 27, 27, 30],\n",
       "       [30, 32, 35, 33, 33, 36],\n",
       "       [36, 38, 41, 39, 39, 42]])"
      ]
     },
     "execution_count": 50,
     "metadata": {},
     "output_type": "execute_result"
    }
   ],
   "source": [
    "#Row wise broadcasting\n",
    "a+b"
   ]
  },
  {
   "cell_type": "code",
   "execution_count": 51,
   "id": "4ae94bfc",
   "metadata": {},
   "outputs": [
    {
     "data": {
      "text/plain": [
       "array([[ 6,  7,  8,  9, 10, 11],\n",
       "       [13, 14, 15, 16, 17, 18],\n",
       "       [21, 22, 23, 24, 25, 26],\n",
       "       [24, 25, 26, 27, 28, 29],\n",
       "       [29, 30, 31, 32, 33, 34],\n",
       "       [37, 38, 39, 40, 41, 42]])"
      ]
     },
     "execution_count": 51,
     "metadata": {},
     "output_type": "execute_result"
    }
   ],
   "source": [
    "#Column wise broadcasting\n",
    "a+b.reshape(1,-1).T"
   ]
  },
  {
   "cell_type": "code",
   "execution_count": 54,
   "id": "95f957f1",
   "metadata": {},
   "outputs": [
    {
     "data": {
      "text/plain": [
       "array([[2.        , 2.23606798, 2.44948974, 2.64575131, 2.82842712,\n",
       "        3.        ],\n",
       "       [3.16227766, 3.31662479, 3.46410162, 3.60555128, 3.74165739,\n",
       "        3.87298335],\n",
       "       [4.        , 4.12310563, 4.24264069, 4.35889894, 4.47213595,\n",
       "        4.58257569],\n",
       "       [4.69041576, 4.79583152, 4.89897949, 5.        , 5.09901951,\n",
       "        5.19615242],\n",
       "       [5.29150262, 5.38516481, 5.47722558, 5.56776436, 5.65685425,\n",
       "        5.74456265],\n",
       "       [5.83095189, 5.91607978, 6.        , 6.08276253, 6.164414  ,\n",
       "        6.244998  ]])"
      ]
     },
     "execution_count": 54,
     "metadata": {},
     "output_type": "execute_result"
    }
   ],
   "source": [
    "np.sqrt(a)"
   ]
  },
  {
   "cell_type": "code",
   "execution_count": 56,
   "id": "2e86b80d",
   "metadata": {},
   "outputs": [
    {
     "data": {
      "text/plain": [
       "array([[5.45981500e+01, 1.48413159e+02, 4.03428793e+02, 1.09663316e+03,\n",
       "        2.98095799e+03, 8.10308393e+03],\n",
       "       [2.20264658e+04, 5.98741417e+04, 1.62754791e+05, 4.42413392e+05,\n",
       "        1.20260428e+06, 3.26901737e+06],\n",
       "       [8.88611052e+06, 2.41549528e+07, 6.56599691e+07, 1.78482301e+08,\n",
       "        4.85165195e+08, 1.31881573e+09],\n",
       "       [3.58491285e+09, 9.74480345e+09, 2.64891221e+10, 7.20048993e+10,\n",
       "        1.95729609e+11, 5.32048241e+11],\n",
       "       [1.44625706e+12, 3.93133430e+12, 1.06864746e+13, 2.90488497e+13,\n",
       "        7.89629602e+13, 2.14643580e+14],\n",
       "       [5.83461743e+14, 1.58601345e+15, 4.31123155e+15, 1.17191424e+16,\n",
       "        3.18559318e+16, 8.65934004e+16]])"
      ]
     },
     "execution_count": 56,
     "metadata": {},
     "output_type": "execute_result"
    }
   ],
   "source": [
    "np.exp(a)"
   ]
  },
  {
   "cell_type": "code",
   "execution_count": 57,
   "id": "509d204a",
   "metadata": {},
   "outputs": [
    {
     "data": {
      "text/plain": [
       "array([[0.60205999, 0.69897   , 0.77815125, 0.84509804, 0.90308999,\n",
       "        0.95424251],\n",
       "       [1.        , 1.04139269, 1.07918125, 1.11394335, 1.14612804,\n",
       "        1.17609126],\n",
       "       [1.20411998, 1.23044892, 1.25527251, 1.2787536 , 1.30103   ,\n",
       "        1.32221929],\n",
       "       [1.34242268, 1.36172784, 1.38021124, 1.39794001, 1.41497335,\n",
       "        1.43136376],\n",
       "       [1.44715803, 1.462398  , 1.47712125, 1.49136169, 1.50514998,\n",
       "        1.51851394],\n",
       "       [1.53147892, 1.54406804, 1.5563025 , 1.56820172, 1.5797836 ,\n",
       "        1.59106461]])"
      ]
     },
     "execution_count": 57,
     "metadata": {},
     "output_type": "execute_result"
    }
   ],
   "source": [
    "np.log10(a)"
   ]
  },
  {
   "cell_type": "markdown",
   "id": "25eb9632",
   "metadata": {},
   "source": [
    "### Deep Copy vs Shallow Copy"
   ]
  },
  {
   "cell_type": "code",
   "execution_count": 73,
   "id": "b996a9bc",
   "metadata": {},
   "outputs": [],
   "source": [
    "x=np.array([1,2,3])\n",
    "y=x\n",
    "#Shallow Copy"
   ]
  },
  {
   "cell_type": "code",
   "execution_count": 74,
   "id": "aad3090c",
   "metadata": {},
   "outputs": [
    {
     "data": {
      "text/plain": [
       "array([1, 2, 3])"
      ]
     },
     "execution_count": 74,
     "metadata": {},
     "output_type": "execute_result"
    }
   ],
   "source": [
    "x"
   ]
  },
  {
   "cell_type": "code",
   "execution_count": 75,
   "id": "dbd4a56c",
   "metadata": {},
   "outputs": [
    {
     "data": {
      "text/plain": [
       "array([1, 2, 3])"
      ]
     },
     "execution_count": 75,
     "metadata": {},
     "output_type": "execute_result"
    }
   ],
   "source": [
    "y"
   ]
  },
  {
   "cell_type": "code",
   "execution_count": 76,
   "id": "4e0fc12f",
   "metadata": {},
   "outputs": [],
   "source": [
    "# Deep Copy\n",
    "z=np.copy(x)"
   ]
  },
  {
   "cell_type": "code",
   "execution_count": 77,
   "id": "17e75966",
   "metadata": {},
   "outputs": [
    {
     "data": {
      "text/plain": [
       "array([1, 2, 3])"
      ]
     },
     "execution_count": 77,
     "metadata": {},
     "output_type": "execute_result"
    }
   ],
   "source": [
    "z"
   ]
  },
  {
   "cell_type": "code",
   "execution_count": 78,
   "id": "d8f4e93c",
   "metadata": {},
   "outputs": [],
   "source": [
    "x[0]=100"
   ]
  },
  {
   "cell_type": "code",
   "execution_count": 79,
   "id": "770788e5",
   "metadata": {},
   "outputs": [
    {
     "data": {
      "text/plain": [
       "array([100,   2,   3])"
      ]
     },
     "execution_count": 79,
     "metadata": {},
     "output_type": "execute_result"
    }
   ],
   "source": [
    "y"
   ]
  },
  {
   "cell_type": "code",
   "execution_count": 80,
   "id": "d2b56187",
   "metadata": {},
   "outputs": [
    {
     "data": {
      "text/plain": [
       "array([100,   2,   3])"
      ]
     },
     "execution_count": 80,
     "metadata": {},
     "output_type": "execute_result"
    }
   ],
   "source": [
    "x"
   ]
  },
  {
   "cell_type": "code",
   "execution_count": 81,
   "id": "45c92fc0",
   "metadata": {},
   "outputs": [
    {
     "data": {
      "text/plain": [
       "array([1, 2, 3])"
      ]
     },
     "execution_count": 81,
     "metadata": {},
     "output_type": "execute_result"
    }
   ],
   "source": [
    "z"
   ]
  },
  {
   "cell_type": "code",
   "execution_count": 82,
   "id": "f334db1b",
   "metadata": {},
   "outputs": [
    {
     "data": {
      "text/plain": [
       "2602930034320"
      ]
     },
     "execution_count": 82,
     "metadata": {},
     "output_type": "execute_result"
    }
   ],
   "source": [
    "id(x)"
   ]
  },
  {
   "cell_type": "code",
   "execution_count": 83,
   "id": "1a91b5e4",
   "metadata": {},
   "outputs": [
    {
     "data": {
      "text/plain": [
       "2602930034320"
      ]
     },
     "execution_count": 83,
     "metadata": {},
     "output_type": "execute_result"
    }
   ],
   "source": [
    "id(y)"
   ]
  },
  {
   "cell_type": "code",
   "execution_count": 84,
   "id": "6357bdce",
   "metadata": {},
   "outputs": [
    {
     "data": {
      "text/plain": [
       "2602930034800"
      ]
     },
     "execution_count": 84,
     "metadata": {},
     "output_type": "execute_result"
    }
   ],
   "source": [
    "id(z)"
   ]
  },
  {
   "cell_type": "code",
   "execution_count": 101,
   "id": "e3364c4b",
   "metadata": {},
   "outputs": [
    {
     "name": "stdout",
     "output_type": "stream",
     "text": [
      "different\n"
     ]
    }
   ],
   "source": [
    "z=250\n",
    "v=2501\n",
    "\n",
    "if id(z) == id(v) :\n",
    "    print('same')\n",
    "else:\n",
    "    print('different')"
   ]
  },
  {
   "cell_type": "code",
   "execution_count": null,
   "id": "696a6a6b",
   "metadata": {},
   "outputs": [],
   "source": []
  }
 ],
 "metadata": {
  "kernelspec": {
   "display_name": "Python 3 (ipykernel)",
   "language": "python",
   "name": "python3"
  },
  "language_info": {
   "codemirror_mode": {
    "name": "ipython",
    "version": 3
   },
   "file_extension": ".py",
   "mimetype": "text/x-python",
   "name": "python",
   "nbconvert_exporter": "python",
   "pygments_lexer": "ipython3",
   "version": "3.9.7"
  }
 },
 "nbformat": 4,
 "nbformat_minor": 5
}
