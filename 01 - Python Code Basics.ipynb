{
 "cells": [
  {
   "cell_type": "markdown",
   "id": "3809415d",
   "metadata": {},
   "source": [
    "# String"
   ]
  },
  {
   "cell_type": "code",
   "execution_count": 6,
   "id": "bf9723ad",
   "metadata": {},
   "outputs": [
    {
     "name": "stdout",
     "output_type": "stream",
     "text": [
      "Ajay\n"
     ]
    }
   ],
   "source": [
    "a = \"Ajay\"\n",
    "print (a)"
   ]
  },
  {
   "cell_type": "code",
   "execution_count": 3,
   "id": "ff768400",
   "metadata": {},
   "outputs": [
    {
     "data": {
      "text/plain": [
       "str"
      ]
     },
     "execution_count": 3,
     "metadata": {},
     "output_type": "execute_result"
    }
   ],
   "source": [
    "type(a)"
   ]
  },
  {
   "cell_type": "code",
   "execution_count": 7,
   "id": "180e0cfa",
   "metadata": {},
   "outputs": [
    {
     "data": {
      "text/plain": [
       "'j'"
      ]
     },
     "execution_count": 7,
     "metadata": {},
     "output_type": "execute_result"
    }
   ],
   "source": [
    "a[1]"
   ]
  },
  {
   "cell_type": "code",
   "execution_count": 8,
   "id": "9278a9fd",
   "metadata": {},
   "outputs": [
    {
     "data": {
      "text/plain": [
       "'y'"
      ]
     },
     "execution_count": 8,
     "metadata": {},
     "output_type": "execute_result"
    }
   ],
   "source": [
    "a[-1]"
   ]
  },
  {
   "cell_type": "code",
   "execution_count": 9,
   "id": "8b5ff7ab",
   "metadata": {},
   "outputs": [],
   "source": [
    "b = \"my name is Ajay\""
   ]
  },
  {
   "cell_type": "code",
   "execution_count": 11,
   "id": "fb9d951f",
   "metadata": {},
   "outputs": [
    {
     "data": {
      "text/plain": [
       "'my name is'"
      ]
     },
     "execution_count": 11,
     "metadata": {},
     "output_type": "execute_result"
    }
   ],
   "source": [
    "b[0:10]"
   ]
  },
  {
   "cell_type": "code",
   "execution_count": 12,
   "id": "87a08d40",
   "metadata": {},
   "outputs": [
    {
     "data": {
      "text/plain": [
       "'m aei'"
      ]
     },
     "execution_count": 12,
     "metadata": {},
     "output_type": "execute_result"
    }
   ],
   "source": [
    "b[0:10:2]"
   ]
  },
  {
   "cell_type": "code",
   "execution_count": 13,
   "id": "7764d1d3",
   "metadata": {},
   "outputs": [
    {
     "data": {
      "text/plain": [
       "'my name is Ajay'"
      ]
     },
     "execution_count": 13,
     "metadata": {},
     "output_type": "execute_result"
    }
   ],
   "source": [
    "b[0:100]"
   ]
  },
  {
   "cell_type": "code",
   "execution_count": 22,
   "id": "6f6816dc",
   "metadata": {},
   "outputs": [
    {
     "data": {
      "text/plain": [
       "'yajA si e'"
      ]
     },
     "execution_count": 22,
     "metadata": {},
     "output_type": "execute_result"
    }
   ],
   "source": [
    "b[-1:-10:-1]"
   ]
  },
  {
   "cell_type": "code",
   "execution_count": 17,
   "id": "cf31e89d",
   "metadata": {},
   "outputs": [
    {
     "data": {
      "text/plain": [
       "'my name is Ajay'"
      ]
     },
     "execution_count": 17,
     "metadata": {},
     "output_type": "execute_result"
    }
   ],
   "source": [
    "b[::]"
   ]
  },
  {
   "cell_type": "code",
   "execution_count": 18,
   "id": "c48e8502",
   "metadata": {},
   "outputs": [
    {
     "data": {
      "text/plain": [
       "'yajA si eman ym'"
      ]
     },
     "execution_count": 18,
     "metadata": {},
     "output_type": "execute_result"
    }
   ],
   "source": [
    "b[::-1]"
   ]
  },
  {
   "cell_type": "code",
   "execution_count": 20,
   "id": "c27b788d",
   "metadata": {},
   "outputs": [
    {
     "data": {
      "text/plain": [
       "' si e'"
      ]
     },
     "execution_count": 20,
     "metadata": {},
     "output_type": "execute_result"
    }
   ],
   "source": [
    "b[-5:5:-1]"
   ]
  },
  {
   "cell_type": "code",
   "execution_count": 23,
   "id": "3c7403c1",
   "metadata": {},
   "outputs": [
    {
     "data": {
      "text/plain": [
       "'my name is Ajaymy name is Ajaymy name is Ajay'"
      ]
     },
     "execution_count": 23,
     "metadata": {},
     "output_type": "execute_result"
    }
   ],
   "source": [
    "b*3"
   ]
  },
  {
   "cell_type": "code",
   "execution_count": 24,
   "id": "b60433cf",
   "metadata": {},
   "outputs": [
    {
     "data": {
      "text/plain": [
       "'my name is Ajaymy name is Ajay'"
      ]
     },
     "execution_count": 24,
     "metadata": {},
     "output_type": "execute_result"
    }
   ],
   "source": [
    "b+b"
   ]
  },
  {
   "cell_type": "code",
   "execution_count": 25,
   "id": "7ec774d2",
   "metadata": {},
   "outputs": [
    {
     "data": {
      "text/plain": [
       "15"
      ]
     },
     "execution_count": 25,
     "metadata": {},
     "output_type": "execute_result"
    }
   ],
   "source": [
    "len(b)"
   ]
  },
  {
   "cell_type": "code",
   "execution_count": 29,
   "id": "ea93af44",
   "metadata": {},
   "outputs": [
    {
     "data": {
      "text/plain": [
       "11"
      ]
     },
     "execution_count": 29,
     "metadata": {},
     "output_type": "execute_result"
    }
   ],
   "source": [
    "b.find('Aj')"
   ]
  },
  {
   "cell_type": "code",
   "execution_count": 28,
   "id": "ab2dab20",
   "metadata": {},
   "outputs": [
    {
     "data": {
      "text/plain": [
       "0"
      ]
     },
     "execution_count": 28,
     "metadata": {},
     "output_type": "execute_result"
    }
   ],
   "source": [
    "b.find('m')"
   ]
  },
  {
   "cell_type": "code",
   "execution_count": 30,
   "id": "41ba11bb",
   "metadata": {},
   "outputs": [
    {
     "data": {
      "text/plain": [
       "2"
      ]
     },
     "execution_count": 30,
     "metadata": {},
     "output_type": "execute_result"
    }
   ],
   "source": [
    "b.count(\"a\")"
   ]
  },
  {
   "cell_type": "code",
   "execution_count": 35,
   "id": "50ec37d8",
   "metadata": {},
   "outputs": [
    {
     "data": {
      "text/plain": [
       "['my n', 'me is Aj', 'y']"
      ]
     },
     "execution_count": 35,
     "metadata": {},
     "output_type": "execute_result"
    }
   ],
   "source": [
    "b.split(\"a\")"
   ]
  },
  {
   "cell_type": "code",
   "execution_count": 45,
   "id": "3b6041ef",
   "metadata": {},
   "outputs": [
    {
     "data": {
      "text/plain": [
       "'M y   n a m e   i s   A j a y'"
      ]
     },
     "execution_count": 45,
     "metadata": {},
     "output_type": "execute_result"
    }
   ],
   "source": [
    "\" \".join(\"My name is Ajay\")"
   ]
  },
  {
   "cell_type": "code",
   "execution_count": 53,
   "id": "0fc276d4",
   "metadata": {},
   "outputs": [
    {
     "name": "stdout",
     "output_type": "stream",
     "text": [
      "yajA si eman ym"
     ]
    }
   ],
   "source": [
    "for i in reversed(b):\n",
    "    print(i, end=\"\")"
   ]
  },
  {
   "cell_type": "code",
   "execution_count": 54,
   "id": "d07ffc37",
   "metadata": {},
   "outputs": [
    {
     "data": {
      "text/plain": [
       "'      indians are the best in the '"
      ]
     },
     "execution_count": 54,
     "metadata": {},
     "output_type": "execute_result"
    }
   ],
   "source": [
    "b=\"      indians are the best in the world\"\n",
    "b.strip(\"world\")"
   ]
  },
  {
   "cell_type": "code",
   "execution_count": 56,
   "id": "cc465086",
   "metadata": {},
   "outputs": [
    {
     "data": {
      "text/plain": [
       "'indians are the best in the world'"
      ]
     },
     "execution_count": 56,
     "metadata": {},
     "output_type": "execute_result"
    }
   ],
   "source": [
    "b=\"      indians are the best in the world\"\n",
    "b.strip()"
   ]
  },
  {
   "cell_type": "code",
   "execution_count": 61,
   "id": "fe6d5384",
   "metadata": {},
   "outputs": [
    {
     "data": {
      "text/plain": [
       "b'Ajay Dhiman'"
      ]
     },
     "execution_count": 61,
     "metadata": {},
     "output_type": "execute_result"
    }
   ],
   "source": [
    "b=\"Ajay Dhiman\"\n",
    "b.encode()\n"
   ]
  },
  {
   "cell_type": "markdown",
   "id": "172f82bf",
   "metadata": {},
   "source": [
    "# List"
   ]
  },
  {
   "cell_type": "code",
   "execution_count": 62,
   "id": "c8208abb",
   "metadata": {},
   "outputs": [],
   "source": [
    "l=[1,2,\"a\",1.2,5+6j]"
   ]
  },
  {
   "cell_type": "code",
   "execution_count": 63,
   "id": "29f7d6d9",
   "metadata": {},
   "outputs": [
    {
     "data": {
      "text/plain": [
       "list"
      ]
     },
     "execution_count": 63,
     "metadata": {},
     "output_type": "execute_result"
    }
   ],
   "source": [
    "type(l)"
   ]
  },
  {
   "cell_type": "code",
   "execution_count": 64,
   "id": "01e97590",
   "metadata": {},
   "outputs": [
    {
     "data": {
      "text/plain": [
       "1"
      ]
     },
     "execution_count": 64,
     "metadata": {},
     "output_type": "execute_result"
    }
   ],
   "source": [
    "l[0]"
   ]
  },
  {
   "cell_type": "code",
   "execution_count": 66,
   "id": "ebe44ac9",
   "metadata": {},
   "outputs": [
    {
     "data": {
      "text/plain": [
       "(5+6j)"
      ]
     },
     "execution_count": 66,
     "metadata": {},
     "output_type": "execute_result"
    }
   ],
   "source": [
    "l[4]"
   ]
  },
  {
   "cell_type": "code",
   "execution_count": 67,
   "id": "4c4a423e",
   "metadata": {},
   "outputs": [
    {
     "data": {
      "text/plain": [
       "5.0"
      ]
     },
     "execution_count": 67,
     "metadata": {},
     "output_type": "execute_result"
    }
   ],
   "source": [
    "l[4].real"
   ]
  },
  {
   "cell_type": "code",
   "execution_count": 68,
   "id": "c2028159",
   "metadata": {},
   "outputs": [
    {
     "data": {
      "text/plain": [
       "6.0"
      ]
     },
     "execution_count": 68,
     "metadata": {},
     "output_type": "execute_result"
    }
   ],
   "source": [
    "l[4].imag"
   ]
  },
  {
   "cell_type": "code",
   "execution_count": 71,
   "id": "6bf7965a",
   "metadata": {},
   "outputs": [
    {
     "data": {
      "text/plain": [
       "[1, 2, 3, 'a', 3, 'f']"
      ]
     },
     "execution_count": 71,
     "metadata": {},
     "output_type": "execute_result"
    }
   ],
   "source": [
    "l1=[1,2,3]\n",
    "l2=[\"a\",3,\"f\"]\n",
    "\n",
    "l1+l2"
   ]
  },
  {
   "cell_type": "code",
   "execution_count": 72,
   "id": "a325e14b",
   "metadata": {},
   "outputs": [
    {
     "data": {
      "text/plain": [
       "['a', 3, 'f', 'a', 3, 'f']"
      ]
     },
     "execution_count": 72,
     "metadata": {},
     "output_type": "execute_result"
    }
   ],
   "source": [
    "l2*2"
   ]
  },
  {
   "cell_type": "code",
   "execution_count": 74,
   "id": "2c2aa694",
   "metadata": {},
   "outputs": [
    {
     "data": {
      "text/plain": [
       "[1, 'changed value', 3]"
      ]
     },
     "execution_count": 74,
     "metadata": {},
     "output_type": "execute_result"
    }
   ],
   "source": [
    "l1[1]=\"changed value\"\n",
    "l1"
   ]
  },
  {
   "cell_type": "code",
   "execution_count": 75,
   "id": "ad39aa7f",
   "metadata": {},
   "outputs": [
    {
     "data": {
      "text/plain": [
       "False"
      ]
     },
     "execution_count": 75,
     "metadata": {},
     "output_type": "execute_result"
    }
   ],
   "source": [
    "a in l1"
   ]
  },
  {
   "cell_type": "code",
   "execution_count": 77,
   "id": "3e2e6989",
   "metadata": {},
   "outputs": [
    {
     "data": {
      "text/plain": [
       "True"
      ]
     },
     "execution_count": 77,
     "metadata": {},
     "output_type": "execute_result"
    }
   ],
   "source": [
    "\"a\" in l2"
   ]
  },
  {
   "cell_type": "code",
   "execution_count": 78,
   "id": "a002313c",
   "metadata": {},
   "outputs": [],
   "source": [
    "l2.append(\"appended\")"
   ]
  },
  {
   "cell_type": "code",
   "execution_count": 79,
   "id": "2a583626",
   "metadata": {},
   "outputs": [
    {
     "data": {
      "text/plain": [
       "['a', 3, 'f', 'appended']"
      ]
     },
     "execution_count": 79,
     "metadata": {},
     "output_type": "execute_result"
    }
   ],
   "source": [
    "l2"
   ]
  },
  {
   "cell_type": "code",
   "execution_count": 82,
   "id": "81317444",
   "metadata": {},
   "outputs": [
    {
     "data": {
      "text/plain": [
       "'appended'"
      ]
     },
     "execution_count": 82,
     "metadata": {},
     "output_type": "execute_result"
    }
   ],
   "source": [
    "l2.pop()"
   ]
  },
  {
   "cell_type": "code",
   "execution_count": 87,
   "id": "c3734054",
   "metadata": {},
   "outputs": [
    {
     "data": {
      "text/plain": [
       "3"
      ]
     },
     "execution_count": 87,
     "metadata": {},
     "output_type": "execute_result"
    }
   ],
   "source": [
    "l2.pop(1)"
   ]
  },
  {
   "cell_type": "code",
   "execution_count": 88,
   "id": "c5c1fad0",
   "metadata": {},
   "outputs": [
    {
     "data": {
      "text/plain": [
       "['a', 'f']"
      ]
     },
     "execution_count": 88,
     "metadata": {},
     "output_type": "execute_result"
    }
   ],
   "source": [
    "l2"
   ]
  },
  {
   "cell_type": "code",
   "execution_count": 89,
   "id": "5d7ecafe",
   "metadata": {},
   "outputs": [],
   "source": [
    "l2.append(\"new value\")"
   ]
  },
  {
   "cell_type": "code",
   "execution_count": 90,
   "id": "538da46f",
   "metadata": {},
   "outputs": [
    {
     "data": {
      "text/plain": [
       "['a', 'f', 'new value']"
      ]
     },
     "execution_count": 90,
     "metadata": {},
     "output_type": "execute_result"
    }
   ],
   "source": [
    "l2"
   ]
  },
  {
   "cell_type": "code",
   "execution_count": 91,
   "id": "632ddf92",
   "metadata": {},
   "outputs": [
    {
     "data": {
      "text/plain": [
       "['a', 'inserted', 'f', 'new value']"
      ]
     },
     "execution_count": 91,
     "metadata": {},
     "output_type": "execute_result"
    }
   ],
   "source": [
    "l2.insert(1,\"inserted\")\n",
    "l2"
   ]
  },
  {
   "cell_type": "code",
   "execution_count": 92,
   "id": "4fc36a63",
   "metadata": {},
   "outputs": [
    {
     "data": {
      "text/plain": [
       "1"
      ]
     },
     "execution_count": 92,
     "metadata": {},
     "output_type": "execute_result"
    }
   ],
   "source": [
    "l2.count(\"a\")"
   ]
  },
  {
   "cell_type": "code",
   "execution_count": 93,
   "id": "2224808d",
   "metadata": {},
   "outputs": [],
   "source": [
    "l2.append([3,4,54,6,3])"
   ]
  },
  {
   "cell_type": "code",
   "execution_count": 94,
   "id": "db17d49e",
   "metadata": {},
   "outputs": [
    {
     "data": {
      "text/plain": [
       "['a', 'inserted', 'f', 'new value', [3, 4, 54, 6, 3]]"
      ]
     },
     "execution_count": 94,
     "metadata": {},
     "output_type": "execute_result"
    }
   ],
   "source": [
    "l2"
   ]
  },
  {
   "cell_type": "code",
   "execution_count": 95,
   "id": "e551e01e",
   "metadata": {},
   "outputs": [],
   "source": [
    "l2.extend(\"5\")"
   ]
  },
  {
   "cell_type": "code",
   "execution_count": 96,
   "id": "71874a4d",
   "metadata": {},
   "outputs": [
    {
     "data": {
      "text/plain": [
       "['a', 'inserted', 'f', 'new value', [3, 4, 54, 6, 3], '5']"
      ]
     },
     "execution_count": 96,
     "metadata": {},
     "output_type": "execute_result"
    }
   ],
   "source": [
    "l2"
   ]
  },
  {
   "cell_type": "code",
   "execution_count": 101,
   "id": "50709eac",
   "metadata": {},
   "outputs": [
    {
     "data": {
      "text/plain": [
       "['5', [3, 4, 54, 6, 3], 'new value', 'f', 'inserted', 'a']"
      ]
     },
     "execution_count": 101,
     "metadata": {},
     "output_type": "execute_result"
    }
   ],
   "source": [
    "l2.reverse()\n",
    "l2"
   ]
  },
  {
   "cell_type": "code",
   "execution_count": 102,
   "id": "3b5c1efd",
   "metadata": {},
   "outputs": [
    {
     "data": {
      "text/plain": [
       "['a', 'b', 'c']"
      ]
     },
     "execution_count": 102,
     "metadata": {},
     "output_type": "execute_result"
    }
   ],
   "source": [
    "list('abc')"
   ]
  },
  {
   "cell_type": "code",
   "execution_count": 103,
   "id": "410a4601",
   "metadata": {},
   "outputs": [],
   "source": [
    "l2.append([\"listAppend1\",\"listAppend2\"])"
   ]
  },
  {
   "cell_type": "code",
   "execution_count": 105,
   "id": "256e3188",
   "metadata": {},
   "outputs": [],
   "source": [
    "l2.extend([\"extend1\",\"extend2\"])"
   ]
  },
  {
   "cell_type": "code",
   "execution_count": 106,
   "id": "9da07feb",
   "metadata": {},
   "outputs": [
    {
     "data": {
      "text/plain": [
       "['5',\n",
       " [3, 4, 54, 6, 3],\n",
       " 'new value',\n",
       " 'f',\n",
       " 'inserted',\n",
       " 'a',\n",
       " ['listAppend1', 'listAppend2'],\n",
       " 'extend1',\n",
       " 'extend2']"
      ]
     },
     "execution_count": 106,
     "metadata": {},
     "output_type": "execute_result"
    }
   ],
   "source": [
    "l2"
   ]
  },
  {
   "cell_type": "code",
   "execution_count": 107,
   "id": "75b457c2",
   "metadata": {},
   "outputs": [
    {
     "data": {
      "text/plain": [
       "[1,\n",
       " 'changed value',\n",
       " 3,\n",
       " '5',\n",
       " [3, 4, 54, 6, 3],\n",
       " 'new value',\n",
       " 'f',\n",
       " 'inserted',\n",
       " 'a',\n",
       " ['listAppend1', 'listAppend2'],\n",
       " 'extend1',\n",
       " 'extend2']"
      ]
     },
     "execution_count": 107,
     "metadata": {},
     "output_type": "execute_result"
    }
   ],
   "source": [
    "l1+l2"
   ]
  },
  {
   "cell_type": "markdown",
   "id": "70540388",
   "metadata": {},
   "source": [
    "# Tuple"
   ]
  },
  {
   "cell_type": "code",
   "execution_count": 116,
   "id": "ed83149a",
   "metadata": {},
   "outputs": [],
   "source": [
    "t=(1,2,3,4,[\"a\",1])"
   ]
  },
  {
   "cell_type": "code",
   "execution_count": 113,
   "id": "aaaff9c6",
   "metadata": {},
   "outputs": [
    {
     "data": {
      "text/plain": [
       "['a', 1]"
      ]
     },
     "execution_count": 113,
     "metadata": {},
     "output_type": "execute_result"
    }
   ],
   "source": [
    "t[4]"
   ]
  },
  {
   "cell_type": "code",
   "execution_count": 117,
   "id": "060f45e1",
   "metadata": {},
   "outputs": [
    {
     "ename": "TypeError",
     "evalue": "'tuple' object does not support item assignment",
     "output_type": "error",
     "traceback": [
      "\u001b[1;31m---------------------------------------------------------------------------\u001b[0m",
      "\u001b[1;31mTypeError\u001b[0m                                 Traceback (most recent call last)",
      "\u001b[1;32m~\\AppData\\Local\\Temp/ipykernel_4408/3753217019.py\u001b[0m in \u001b[0;36m<module>\u001b[1;34m\u001b[0m\n\u001b[1;32m----> 1\u001b[1;33m \u001b[0mt\u001b[0m\u001b[1;33m[\u001b[0m\u001b[1;36m0\u001b[0m\u001b[1;33m]\u001b[0m\u001b[1;33m=\u001b[0m\u001b[1;34m\"a\"\u001b[0m\u001b[1;33m\u001b[0m\u001b[1;33m\u001b[0m\u001b[0m\n\u001b[0m\u001b[0;32m      2\u001b[0m \u001b[1;31m#Values in a tuple cannot be changed\u001b[0m\u001b[1;33m\u001b[0m\u001b[1;33m\u001b[0m\u001b[0m\n",
      "\u001b[1;31mTypeError\u001b[0m: 'tuple' object does not support item assignment"
     ]
    }
   ],
   "source": [
    "t[0]=\"a\"\n",
    "#Values in a tuple cannot be changed"
   ]
  },
  {
   "cell_type": "markdown",
   "id": "0063786d",
   "metadata": {},
   "source": [
    "# Set"
   ]
  },
  {
   "cell_type": "code",
   "execution_count": 119,
   "id": "668fe5ad",
   "metadata": {},
   "outputs": [],
   "source": [
    "l=[1,2,23,3,1,21,13,34,5,23,2]"
   ]
  },
  {
   "cell_type": "code",
   "execution_count": 122,
   "id": "b69b92ef",
   "metadata": {},
   "outputs": [],
   "source": [
    "s=set(l)"
   ]
  },
  {
   "cell_type": "code",
   "execution_count": 123,
   "id": "e7fba2ec",
   "metadata": {},
   "outputs": [
    {
     "data": {
      "text/plain": [
       "{1, 2, 3, 5, 13, 21, 23, 34}"
      ]
     },
     "execution_count": 123,
     "metadata": {},
     "output_type": "execute_result"
    }
   ],
   "source": [
    "s"
   ]
  },
  {
   "cell_type": "code",
   "execution_count": 124,
   "id": "379989a8",
   "metadata": {},
   "outputs": [],
   "source": [
    "s1={}"
   ]
  },
  {
   "cell_type": "code",
   "execution_count": 125,
   "id": "9f9e2222",
   "metadata": {},
   "outputs": [
    {
     "data": {
      "text/plain": [
       "dict"
      ]
     },
     "execution_count": 125,
     "metadata": {},
     "output_type": "execute_result"
    }
   ],
   "source": [
    "type(s1)"
   ]
  },
  {
   "cell_type": "code",
   "execution_count": 134,
   "id": "3f492a6d",
   "metadata": {},
   "outputs": [
    {
     "data": {
      "text/plain": [
       "{1, 11111, 13, 2, 21, 23, 3, 34, 5, 's'}"
      ]
     },
     "execution_count": 134,
     "metadata": {},
     "output_type": "execute_result"
    }
   ],
   "source": [
    "s1={1,2,23,3,11111,1,1,1,1,1,1,21,13,34,5,23,2,\"s\"}\n",
    "s1"
   ]
  },
  {
   "cell_type": "code",
   "execution_count": 132,
   "id": "bf067fa3",
   "metadata": {},
   "outputs": [
    {
     "ename": "TypeError",
     "evalue": "'set' object is not subscriptable",
     "output_type": "error",
     "traceback": [
      "\u001b[1;31m---------------------------------------------------------------------------\u001b[0m",
      "\u001b[1;31mTypeError\u001b[0m                                 Traceback (most recent call last)",
      "\u001b[1;32m~\\AppData\\Local\\Temp/ipykernel_4408/1453627479.py\u001b[0m in \u001b[0;36m<module>\u001b[1;34m\u001b[0m\n\u001b[1;32m----> 1\u001b[1;33m \u001b[0ms1\u001b[0m\u001b[1;33m[\u001b[0m\u001b[1;36m0\u001b[0m\u001b[1;33m]\u001b[0m\u001b[1;33m\u001b[0m\u001b[1;33m\u001b[0m\u001b[0m\n\u001b[0m",
      "\u001b[1;31mTypeError\u001b[0m: 'set' object is not subscriptable"
     ]
    }
   ],
   "source": [
    "s1[0]\n"
   ]
  },
  {
   "cell_type": "code",
   "execution_count": 135,
   "id": "5da8ff4e",
   "metadata": {},
   "outputs": [
    {
     "ename": "KeyError",
     "evalue": "111",
     "output_type": "error",
     "traceback": [
      "\u001b[1;31m---------------------------------------------------------------------------\u001b[0m",
      "\u001b[1;31mKeyError\u001b[0m                                  Traceback (most recent call last)",
      "\u001b[1;32m~\\AppData\\Local\\Temp/ipykernel_4408/2692260405.py\u001b[0m in \u001b[0;36m<module>\u001b[1;34m\u001b[0m\n\u001b[1;32m----> 1\u001b[1;33m \u001b[0ms1\u001b[0m\u001b[1;33m.\u001b[0m\u001b[0mremove\u001b[0m\u001b[1;33m(\u001b[0m\u001b[1;36m111\u001b[0m\u001b[1;33m)\u001b[0m\u001b[1;33m\u001b[0m\u001b[1;33m\u001b[0m\u001b[0m\n\u001b[0m",
      "\u001b[1;31mKeyError\u001b[0m: 111"
     ]
    }
   ],
   "source": [
    "s1.remove(111)"
   ]
  },
  {
   "cell_type": "code",
   "execution_count": 137,
   "id": "17a0f977",
   "metadata": {},
   "outputs": [],
   "source": [
    "s1.discard('121')"
   ]
  },
  {
   "cell_type": "code",
   "execution_count": 141,
   "id": "0b3d646e",
   "metadata": {},
   "outputs": [],
   "source": [
    "s2={4:\"a\",\"a1\":2}"
   ]
  },
  {
   "cell_type": "code",
   "execution_count": 142,
   "id": "cd02663b",
   "metadata": {},
   "outputs": [
    {
     "data": {
      "text/plain": [
       "2"
      ]
     },
     "execution_count": 142,
     "metadata": {},
     "output_type": "execute_result"
    }
   ],
   "source": [
    "s2[\"a1\"]"
   ]
  },
  {
   "cell_type": "code",
   "execution_count": 144,
   "id": "d8ceee9d",
   "metadata": {},
   "outputs": [
    {
     "data": {
      "text/plain": [
       "dict_keys([4, 'a1'])"
      ]
     },
     "execution_count": 144,
     "metadata": {},
     "output_type": "execute_result"
    }
   ],
   "source": [
    "s2.keys()"
   ]
  },
  {
   "cell_type": "code",
   "execution_count": 145,
   "id": "6013408b",
   "metadata": {},
   "outputs": [
    {
     "data": {
      "text/plain": [
       "dict_values(['a', 2])"
      ]
     },
     "execution_count": 145,
     "metadata": {},
     "output_type": "execute_result"
    }
   ],
   "source": [
    "s2.values()"
   ]
  },
  {
   "cell_type": "code",
   "execution_count": 146,
   "id": "a6022b58",
   "metadata": {},
   "outputs": [
    {
     "data": {
      "text/plain": [
       "dict_items([(4, 'a'), ('a1', 2)])"
      ]
     },
     "execution_count": 146,
     "metadata": {},
     "output_type": "execute_result"
    }
   ],
   "source": [
    "s2.items()"
   ]
  },
  {
   "cell_type": "code",
   "execution_count": 148,
   "id": "32a4a9ea",
   "metadata": {},
   "outputs": [],
   "source": [
    "d={'key1': 'sudh', 'key2': [1, 2, 3, 4], 'key3': 'kumar', 4: [2, 4, 4, 4, 5, 4]}"
   ]
  },
  {
   "cell_type": "code",
   "execution_count": 149,
   "id": "4a6b6acf",
   "metadata": {},
   "outputs": [],
   "source": [
    "del d[\"key1\"]"
   ]
  },
  {
   "cell_type": "code",
   "execution_count": 150,
   "id": "b50aa2ab",
   "metadata": {},
   "outputs": [
    {
     "data": {
      "text/plain": [
       "{'key2': [1, 2, 3, 4], 'key3': 'kumar', 4: [2, 4, 4, 4, 5, 4]}"
      ]
     },
     "execution_count": 150,
     "metadata": {},
     "output_type": "execute_result"
    }
   ],
   "source": [
    "d"
   ]
  },
  {
   "cell_type": "code",
   "execution_count": 151,
   "id": "86f00f9c",
   "metadata": {},
   "outputs": [],
   "source": [
    "del d"
   ]
  },
  {
   "cell_type": "code",
   "execution_count": 152,
   "id": "191b6242",
   "metadata": {},
   "outputs": [
    {
     "ename": "NameError",
     "evalue": "name 'd' is not defined",
     "output_type": "error",
     "traceback": [
      "\u001b[1;31m---------------------------------------------------------------------------\u001b[0m",
      "\u001b[1;31mNameError\u001b[0m                                 Traceback (most recent call last)",
      "\u001b[1;32m~\\AppData\\Local\\Temp/ipykernel_4408/3161387801.py\u001b[0m in \u001b[0;36m<module>\u001b[1;34m\u001b[0m\n\u001b[1;32m----> 1\u001b[1;33m \u001b[0md\u001b[0m\u001b[1;33m\u001b[0m\u001b[1;33m\u001b[0m\u001b[0m\n\u001b[0m",
      "\u001b[1;31mNameError\u001b[0m: name 'd' is not defined"
     ]
    }
   ],
   "source": [
    "d"
   ]
  },
  {
   "cell_type": "code",
   "execution_count": 153,
   "id": "04346d9c",
   "metadata": {},
   "outputs": [],
   "source": [
    "d={'key1': 'sudh', 'key2': [1, 2, 3, 4], 'key3': 'kumar', 4: [2, 4, 4, 4, 5, 4]}"
   ]
  },
  {
   "cell_type": "code",
   "execution_count": 155,
   "id": "773094f4",
   "metadata": {},
   "outputs": [],
   "source": [
    "d.get(\"key11\")"
   ]
  },
  {
   "cell_type": "code",
   "execution_count": 156,
   "id": "26c940e0",
   "metadata": {},
   "outputs": [],
   "source": [
    "d1 = {'key1' : \"ineruon\" , \"key\"  : \"FSDS\"}\n",
    "d2 = {\"key2\":456 , \"key3\" :[1,2,3,4,5]}\n",
    "d1.update(d2)"
   ]
  },
  {
   "cell_type": "code",
   "execution_count": 157,
   "id": "6b0aa6c7",
   "metadata": {},
   "outputs": [
    {
     "data": {
      "text/plain": [
       "{'key1': 'ineruon', 'key': 'FSDS', 'key2': 456, 'key3': [1, 2, 3, 4, 5]}"
      ]
     },
     "execution_count": 157,
     "metadata": {},
     "output_type": "execute_result"
    }
   ],
   "source": [
    "d1"
   ]
  },
  {
   "cell_type": "code",
   "execution_count": 158,
   "id": "d7509381",
   "metadata": {},
   "outputs": [
    {
     "ename": "TypeError",
     "evalue": "unsupported operand type(s) for +: 'dict' and 'dict'",
     "output_type": "error",
     "traceback": [
      "\u001b[1;31m---------------------------------------------------------------------------\u001b[0m",
      "\u001b[1;31mTypeError\u001b[0m                                 Traceback (most recent call last)",
      "\u001b[1;32m~\\AppData\\Local\\Temp/ipykernel_4408/833095442.py\u001b[0m in \u001b[0;36m<module>\u001b[1;34m\u001b[0m\n\u001b[1;32m----> 1\u001b[1;33m \u001b[0md1\u001b[0m\u001b[1;33m+\u001b[0m\u001b[0md2\u001b[0m\u001b[1;33m\u001b[0m\u001b[1;33m\u001b[0m\u001b[0m\n\u001b[0m",
      "\u001b[1;31mTypeError\u001b[0m: unsupported operand type(s) for +: 'dict' and 'dict'"
     ]
    }
   ],
   "source": [
    "d1+d2"
   ]
  },
  {
   "cell_type": "code",
   "execution_count": 163,
   "id": "102f3763",
   "metadata": {},
   "outputs": [],
   "source": [
    "d3={}\n",
    "key= (\"name\" , \"mobile_no\" , \"email_id\")\n",
    "value = (\"sudh\" , \"fdsf\" ,\"dsf\")\n",
    "d4=d3.fromkeys(key,value)"
   ]
  },
  {
   "cell_type": "code",
   "execution_count": 164,
   "id": "c2a5bbe8",
   "metadata": {},
   "outputs": [
    {
     "data": {
      "text/plain": [
       "{'name': ('sudh', 'fdsf', 'dsf'),\n",
       " 'mobile_no': ('sudh', 'fdsf', 'dsf'),\n",
       " 'email_id': ('sudh', 'fdsf', 'dsf')}"
      ]
     },
     "execution_count": 164,
     "metadata": {},
     "output_type": "execute_result"
    }
   ],
   "source": [
    "d4"
   ]
  },
  {
   "cell_type": "code",
   "execution_count": 165,
   "id": "df47e99a",
   "metadata": {},
   "outputs": [
    {
     "data": {
      "text/plain": [
       "['name', 'mobile_no', 'email_id']"
      ]
     },
     "execution_count": 165,
     "metadata": {},
     "output_type": "execute_result"
    }
   ],
   "source": [
    "list(d4)"
   ]
  },
  {
   "cell_type": "code",
   "execution_count": 5,
   "id": "eb1fba2d",
   "metadata": {},
   "outputs": [
    {
     "ename": "ValueError",
     "evalue": "tuple.index(x): x not in tuple",
     "output_type": "error",
     "traceback": [
      "\u001b[1;31m---------------------------------------------------------------------------\u001b[0m",
      "\u001b[1;31mValueError\u001b[0m                                Traceback (most recent call last)",
      "\u001b[1;32m~\\AppData\\Local\\Temp/ipykernel_6752/2892733484.py\u001b[0m in \u001b[0;36m<module>\u001b[1;34m\u001b[0m\n\u001b[0;32m      1\u001b[0m \u001b[0mt1\u001b[0m\u001b[1;33m=\u001b[0m\u001b[1;33m(\u001b[0m\u001b[1;36m1\u001b[0m\u001b[1;33m,\u001b[0m\u001b[1;36m2\u001b[0m\u001b[1;33m,\u001b[0m\u001b[1;36m3\u001b[0m\u001b[1;33m,\u001b[0m\u001b[1;36m4\u001b[0m\u001b[1;33m,\u001b[0m\u001b[1;34m'dfs'\u001b[0m\u001b[1;33m,\u001b[0m\u001b[1;32mTrue\u001b[0m\u001b[1;33m)\u001b[0m\u001b[1;33m\u001b[0m\u001b[1;33m\u001b[0m\u001b[0m\n\u001b[1;32m----> 2\u001b[1;33m \u001b[0mt1\u001b[0m\u001b[1;33m.\u001b[0m\u001b[0mindex\u001b[0m\u001b[1;33m(\u001b[0m\u001b[1;36m12\u001b[0m\u001b[1;33m)\u001b[0m\u001b[1;33m\u001b[0m\u001b[1;33m\u001b[0m\u001b[0m\n\u001b[0m",
      "\u001b[1;31mValueError\u001b[0m: tuple.index(x): x not in tuple"
     ]
    }
   ],
   "source": [
    "t1=(1,2,3,4,'dfs',True)\n",
    "t1.index(12)"
   ]
  },
  {
   "cell_type": "code",
   "execution_count": 6,
   "id": "c2dd97e7",
   "metadata": {},
   "outputs": [],
   "source": [
    "d3={\"key1\":\"ineuron\",\"key2\":\"fsds\"}\n",
    "d4={\"key1\":456,\"key2\":[1,2,3,4],\"key3\":\"A\"}\n",
    "d3.update(d4)\n"
   ]
  },
  {
   "cell_type": "code",
   "execution_count": 7,
   "id": "f5920e86",
   "metadata": {},
   "outputs": [
    {
     "data": {
      "text/plain": [
       "{'key1': 456, 'key2': [1, 2, 3, 4], 'key3': 'A'}"
      ]
     },
     "execution_count": 7,
     "metadata": {},
     "output_type": "execute_result"
    }
   ],
   "source": [
    "d3"
   ]
  },
  {
   "cell_type": "markdown",
   "id": "6f819b9c",
   "metadata": {},
   "source": [
    "# IF - Else Block\n",
    "\n"
   ]
  },
  {
   "cell_type": "code",
   "execution_count": 12,
   "id": "3b773f78",
   "metadata": {},
   "outputs": [
    {
     "name": "stdout",
     "output_type": "stream",
     "text": [
      "a is less then 15 and value is 10\n"
     ]
    }
   ],
   "source": [
    "a=10\n",
    "\n",
    "if a<15:\n",
    "    print(\"a is less then 15 and value is\",a)"
   ]
  },
  {
   "cell_type": "code",
   "execution_count": 46,
   "id": "db339aee",
   "metadata": {},
   "outputs": [
    {
     "name": "stdout",
     "output_type": "stream",
     "text": [
      "a is less then 15 and value is 10\n"
     ]
    }
   ],
   "source": [
    "a=10\n",
    "\n",
    "if (a<15):\n",
    "    print(\"a is less then 15 and value is\",a)"
   ]
  },
  {
   "cell_type": "code",
   "execution_count": 45,
   "id": "c827d4ee",
   "metadata": {},
   "outputs": [
    {
     "name": "stdout",
     "output_type": "stream",
     "text": [
      "200\n",
      "invalid income\n"
     ]
    }
   ],
   "source": [
    "income = int(input())\n",
    "if (income<50):\n",
    "    print(\"less income\")\n",
    "elif (income>=50 and income<100):\n",
    "    print(\"middle income\")\n",
    "elif (income>=100 and income<150):\n",
    "    print(\"huge income\")\n",
    "else:\n",
    "    print(\"invalid income\")"
   ]
  },
  {
   "cell_type": "markdown",
   "id": "b1329b1b",
   "metadata": {},
   "source": [
    "# For loop\n",
    "\n",
    "\n",
    "\n"
   ]
  },
  {
   "cell_type": "code",
   "execution_count": 40,
   "id": "58fe1bf9",
   "metadata": {},
   "outputs": [
    {
     "name": "stdout",
     "output_type": "stream",
     "text": [
      "2\n",
      "345\n",
      "45\n",
      "64\n",
      "56\n",
      "234\n",
      "234\n"
     ]
    }
   ],
   "source": [
    "l=[2,345,45,64,56,234,234]\n",
    "\n",
    "for i in l:\n",
    "    print(i)"
   ]
  },
  {
   "cell_type": "code",
   "execution_count": 47,
   "id": "835c738d",
   "metadata": {},
   "outputs": [
    {
     "name": "stdout",
     "output_type": "stream",
     "text": [
      "2\n",
      "45\n",
      "78\n",
      "12\n"
     ]
    }
   ],
   "source": [
    "l = [2,45,78,12,\"sudh\" , 6+7j,[56,67,78,\"dsfdsf\"]]\n",
    "\n",
    "for i in l:\n",
    "    if type(i) == int :\n",
    "        print(i)\n",
    "        "
   ]
  },
  {
   "cell_type": "code",
   "execution_count": 49,
   "id": "5f94e338",
   "metadata": {},
   "outputs": [
    {
     "name": "stdout",
     "output_type": "stream",
     "text": [
      "index = 0 Value = 2\n",
      "index = 1 Value = 45\n",
      "index = 2 Value = 78\n",
      "index = 3 Value = 12\n",
      "index = 4 Value = sudh\n",
      "index = 5 Value = (6+7j)\n",
      "index = 6 Value = [56, 67, 78, 'dsfdsf']\n"
     ]
    }
   ],
   "source": [
    "l = [2,45,78,12,\"sudh\" , 6+7j,[56,67,78,\"dsfdsf\"]]\n",
    "\n",
    "for i in range(len(l)):\n",
    "    print(\"index =\",i,\"Value =\",l[i])"
   ]
  },
  {
   "cell_type": "code",
   "execution_count": 52,
   "id": "a0f621dc",
   "metadata": {},
   "outputs": [
    {
     "name": "stdout",
     "output_type": "stream",
     "text": [
      "A j a y D h i m a n "
     ]
    }
   ],
   "source": [
    "l1 = \"AjayDhiman\"\n",
    "for c in l1:\n",
    "    print(c,end=\" \")"
   ]
  },
  {
   "cell_type": "code",
   "execution_count": 54,
   "id": "618f01e3",
   "metadata": {},
   "outputs": [
    {
     "name": "stdout",
     "output_type": "stream",
     "text": [
      "A j a y D h i m a n \n",
      "else block\n"
     ]
    }
   ],
   "source": [
    "l1 = \"AjayDhiman\"\n",
    "for c in l1:\n",
    "    print(c,end=\" \")\n",
    "else :\n",
    "    print(\"\\nelse block\")"
   ]
  },
  {
   "cell_type": "code",
   "execution_count": 55,
   "id": "12111a8c",
   "metadata": {},
   "outputs": [
    {
     "name": "stdout",
     "output_type": "stream",
     "text": [
      "A\n",
      "j\n",
      "a\n",
      "y\n",
      " \n"
     ]
    }
   ],
   "source": [
    "s = \"Ajay Dhiman\"\n",
    "for i in s:\n",
    "    if i == \"D\" : \n",
    "        break \n",
    "    print(i)\n",
    "else :\n",
    "    print(\"dont exectute is unless and untill it is not printing my name \")"
   ]
  },
  {
   "cell_type": "code",
   "execution_count": 58,
   "id": "e03d5529",
   "metadata": {},
   "outputs": [
    {
     "name": "stdout",
     "output_type": "stream",
     "text": [
      "1\n",
      "2\n",
      "3\n",
      "4\n"
     ]
    }
   ],
   "source": [
    "a=1\n",
    "while (a<5):\n",
    "    print(a)\n",
    "    a+=1"
   ]
  },
  {
   "cell_type": "code",
   "execution_count": 66,
   "id": "6b4f5421",
   "metadata": {},
   "outputs": [
    {
     "name": "stdout",
     "output_type": "stream",
     "text": [
      "1\n",
      "2\n",
      "4\n",
      "5\n",
      "6\n",
      "8\n",
      "9\n",
      "10\n"
     ]
    }
   ],
   "source": [
    "a = 0 \n",
    "while a < 10 :\n",
    "    a = a + 1\n",
    "    if a == 3 or a==7:\n",
    "        continue\n",
    "    else :\n",
    "        print(a)\n",
    "        "
   ]
  },
  {
   "cell_type": "code",
   "execution_count": 67,
   "id": "5847dccc",
   "metadata": {},
   "outputs": [],
   "source": [
    "while a < 5 :\n",
    "    pass"
   ]
  },
  {
   "cell_type": "markdown",
   "id": "42eb3ac9",
   "metadata": {},
   "source": [
    "# Functions\n",
    "\n",
    "\n",
    "\n"
   ]
  },
  {
   "cell_type": "code",
   "execution_count": 68,
   "id": "a738cb77",
   "metadata": {},
   "outputs": [],
   "source": [
    "def Test():\n",
    "    print(\"Hello\")"
   ]
  },
  {
   "cell_type": "code",
   "execution_count": 69,
   "id": "a5af1f27",
   "metadata": {},
   "outputs": [
    {
     "name": "stdout",
     "output_type": "stream",
     "text": [
      "Hello\n"
     ]
    }
   ],
   "source": [
    "Test()"
   ]
  },
  {
   "cell_type": "code",
   "execution_count": 71,
   "id": "e31c2ba1",
   "metadata": {},
   "outputs": [
    {
     "data": {
      "text/plain": [
       "'this is my second fun - a'"
      ]
     },
     "execution_count": 71,
     "metadata": {},
     "output_type": "execute_result"
    }
   ],
   "source": [
    "def test2():\n",
    "    return \"this is my second fun\"\n",
    "\n",
    "test2()+\" - a\""
   ]
  },
  {
   "cell_type": "code",
   "execution_count": 72,
   "id": "56da6fbd",
   "metadata": {},
   "outputs": [
    {
     "data": {
      "text/plain": [
       "(4, 3, 'sudh', [1, 2, 3, 4, 5])"
      ]
     },
     "execution_count": 72,
     "metadata": {},
     "output_type": "execute_result"
    }
   ],
   "source": [
    "def test4():\n",
    "    return 4,3, \"sudh\" , [1,2,3,4,5]\n",
    "\n",
    "a=test4()\n",
    "a"
   ]
  },
  {
   "cell_type": "code",
   "execution_count": 73,
   "id": "73372366",
   "metadata": {},
   "outputs": [],
   "source": [
    "a,b,c,d=test4()"
   ]
  },
  {
   "cell_type": "code",
   "execution_count": 75,
   "id": "7c9e01c9",
   "metadata": {},
   "outputs": [
    {
     "data": {
      "text/plain": [
       "3"
      ]
     },
     "execution_count": 75,
     "metadata": {},
     "output_type": "execute_result"
    }
   ],
   "source": [
    "b"
   ]
  },
  {
   "cell_type": "code",
   "execution_count": 76,
   "id": "f252d3d2",
   "metadata": {},
   "outputs": [],
   "source": [
    "def functionDefinationExample():\n",
    "    \"\"\"This is help to my function\"\"\"\n",
    "    print(\"Hello World\")"
   ]
  },
  {
   "cell_type": "code",
   "execution_count": 77,
   "id": "7449c4e2",
   "metadata": {},
   "outputs": [
    {
     "name": "stdout",
     "output_type": "stream",
     "text": [
      "Help on function functionDefinationExample in module __main__:\n",
      "\n",
      "functionDefinationExample()\n",
      "    This is help to my function\n",
      "\n"
     ]
    }
   ],
   "source": [
    "help(functionDefinationExample)"
   ]
  },
  {
   "cell_type": "code",
   "execution_count": 2,
   "id": "94398759",
   "metadata": {},
   "outputs": [
    {
     "name": "stdout",
     "output_type": "stream",
     "text": [
      "1 2 3\n"
     ]
    }
   ],
   "source": [
    "def functionWithMultiArguments(*args):\n",
    "    return args\n",
    "\n",
    "a,b,c=functionWithMultiArguments(1,2,3);\n",
    "print(a,b,c)"
   ]
  },
  {
   "cell_type": "code",
   "execution_count": 3,
   "id": "8359e139",
   "metadata": {},
   "outputs": [
    {
     "data": {
      "text/plain": [
       "((1, 2, 3, 4), 5)"
      ]
     },
     "execution_count": 3,
     "metadata": {},
     "output_type": "execute_result"
    }
   ],
   "source": [
    "def test3(*arg , a):\n",
    "    return arg , a\n",
    "\n",
    "test3(1,2,3,4,a=5)"
   ]
  },
  {
   "cell_type": "code",
   "execution_count": 5,
   "id": "82056750",
   "metadata": {},
   "outputs": [
    {
     "data": {
      "text/plain": [
       "(1, (2, 3, 4))"
      ]
     },
     "execution_count": 5,
     "metadata": {},
     "output_type": "execute_result"
    }
   ],
   "source": [
    "def test4( a , *sudh):\n",
    "    return a,sudh\n",
    "\n",
    "test4(1,2,3,4)"
   ]
  },
  {
   "cell_type": "code",
   "execution_count": 10,
   "id": "d33d496f",
   "metadata": {},
   "outputs": [
    {
     "data": {
      "text/plain": [
       "(1, (2, 3, 4), 4, 9)"
      ]
     },
     "execution_count": 10,
     "metadata": {},
     "output_type": "execute_result"
    }
   ],
   "source": [
    "def test5( a , *sudh, c , d):\n",
    "    return a,sudh,c,d\n",
    "\n",
    "test5(1,2,3,4,c=4,d=9)"
   ]
  },
  {
   "cell_type": "code",
   "execution_count": 11,
   "id": "e00b6116",
   "metadata": {},
   "outputs": [
    {
     "data": {
      "text/plain": [
       "{'a': 1, 'b': 2, 'c': 3}"
      ]
     },
     "execution_count": 11,
     "metadata": {},
     "output_type": "execute_result"
    }
   ],
   "source": [
    "def test6(**args):\n",
    "    return args\n",
    "\n",
    "test6(a=1,b=2,c=3)"
   ]
  },
  {
   "cell_type": "code",
   "execution_count": 14,
   "id": "08ded09e",
   "metadata": {},
   "outputs": [
    {
     "data": {
      "text/plain": [
       "({'aa': 2}, 1)"
      ]
     },
     "execution_count": 14,
     "metadata": {},
     "output_type": "execute_result"
    }
   ],
   "source": [
    "def test7(a, **arg):\n",
    "    return arg , a \n",
    "\n",
    "test7(1,aa=2)"
   ]
  },
  {
   "cell_type": "code",
   "execution_count": 15,
   "id": "5cd82509",
   "metadata": {},
   "outputs": [
    {
     "ename": "SyntaxError",
     "evalue": "invalid syntax (Temp/ipykernel_10088/4185235918.py, line 1)",
     "output_type": "error",
     "traceback": [
      "\u001b[1;36m  File \u001b[1;32m\"C:\\Users\\eraja\\AppData\\Local\\Temp/ipykernel_10088/4185235918.py\"\u001b[1;36m, line \u001b[1;32m1\u001b[0m\n\u001b[1;33m    def test8(a, **b , *c):\u001b[0m\n\u001b[1;37m                       ^\u001b[0m\n\u001b[1;31mSyntaxError\u001b[0m\u001b[1;31m:\u001b[0m invalid syntax\n"
     ]
    }
   ],
   "source": [
    "def test8(a, **b , *c):\n",
    "    return a,b,c"
   ]
  },
  {
   "cell_type": "code",
   "execution_count": 20,
   "id": "a8d6076a",
   "metadata": {},
   "outputs": [
    {
     "data": {
      "text/plain": [
       "(1, (2, 3), {'f': 4})"
      ]
     },
     "execution_count": 20,
     "metadata": {},
     "output_type": "execute_result"
    }
   ],
   "source": [
    "def test8(a, *b , **c):\n",
    "    return a,b,c\n",
    "\n",
    "test8(1,2,3,f=4)"
   ]
  },
  {
   "cell_type": "markdown",
   "id": "79feb6c1",
   "metadata": {},
   "source": [
    "## Lambda Functions"
   ]
  },
  {
   "cell_type": "markdown",
   "id": "f8f0163f",
   "metadata": {},
   "source": [
    "l = lambda a,b : a*b"
   ]
  },
  {
   "cell_type": "code",
   "execution_count": 21,
   "id": "04e0ce5e",
   "metadata": {},
   "outputs": [
    {
     "data": {
      "text/plain": [
       "6"
      ]
     },
     "execution_count": 21,
     "metadata": {},
     "output_type": "execute_result"
    }
   ],
   "source": [
    "l(2,3)"
   ]
  },
  {
   "cell_type": "code",
   "execution_count": 24,
   "id": "844fa2d0",
   "metadata": {},
   "outputs": [
    {
     "data": {
      "text/plain": [
       "['A', 'j', 'a', 'y']"
      ]
     },
     "execution_count": 24,
     "metadata": {},
     "output_type": "execute_result"
    }
   ],
   "source": [
    "x = lambda x :[ i for i in x ]\n",
    "x('Ajay')"
   ]
  },
  {
   "cell_type": "code",
   "execution_count": 27,
   "id": "24f95901",
   "metadata": {},
   "outputs": [
    {
     "data": {
      "text/plain": [
       "[3, 4, 5, 6]"
      ]
     },
     "execution_count": 27,
     "metadata": {},
     "output_type": "execute_result"
    }
   ],
   "source": [
    "a = lambda a : [i+2 for i in a ]\n",
    "\n",
    "a([1,2,3,4])"
   ]
  },
  {
   "cell_type": "markdown",
   "id": "1ece4cc8",
   "metadata": {},
   "source": [
    "## Misc Function"
   ]
  },
  {
   "cell_type": "code",
   "execution_count": 28,
   "id": "36247a9a",
   "metadata": {},
   "outputs": [],
   "source": [
    "a=\"Ajay\""
   ]
  },
  {
   "cell_type": "code",
   "execution_count": 29,
   "id": "d41a2a34",
   "metadata": {},
   "outputs": [
    {
     "ename": "TypeError",
     "evalue": "'str' object is not an iterator",
     "output_type": "error",
     "traceback": [
      "\u001b[1;31m---------------------------------------------------------------------------\u001b[0m",
      "\u001b[1;31mTypeError\u001b[0m                                 Traceback (most recent call last)",
      "\u001b[1;32m~\\AppData\\Local\\Temp/ipykernel_10088/1242322984.py\u001b[0m in \u001b[0;36m<module>\u001b[1;34m\u001b[0m\n\u001b[1;32m----> 1\u001b[1;33m \u001b[0mnext\u001b[0m\u001b[1;33m(\u001b[0m\u001b[0ma\u001b[0m\u001b[1;33m)\u001b[0m\u001b[1;33m\u001b[0m\u001b[1;33m\u001b[0m\u001b[0m\n\u001b[0m",
      "\u001b[1;31mTypeError\u001b[0m: 'str' object is not an iterator"
     ]
    }
   ],
   "source": [
    "next(a)"
   ]
  },
  {
   "cell_type": "code",
   "execution_count": 37,
   "id": "5c9955d7",
   "metadata": {},
   "outputs": [],
   "source": [
    "b=iter(a)"
   ]
  },
  {
   "cell_type": "code",
   "execution_count": 38,
   "id": "95797adb",
   "metadata": {},
   "outputs": [
    {
     "data": {
      "text/plain": [
       "'A'"
      ]
     },
     "execution_count": 38,
     "metadata": {},
     "output_type": "execute_result"
    }
   ],
   "source": [
    "next(b)"
   ]
  },
  {
   "cell_type": "code",
   "execution_count": 39,
   "id": "0550a68a",
   "metadata": {},
   "outputs": [
    {
     "data": {
      "text/plain": [
       "'j'"
      ]
     },
     "execution_count": 39,
     "metadata": {},
     "output_type": "execute_result"
    }
   ],
   "source": [
    "next(b)"
   ]
  },
  {
   "cell_type": "code",
   "execution_count": 40,
   "id": "c53067c7",
   "metadata": {},
   "outputs": [],
   "source": [
    "l = [3,4,5,6,6]"
   ]
  },
  {
   "cell_type": "code",
   "execution_count": 41,
   "id": "cb1fd335",
   "metadata": {},
   "outputs": [
    {
     "ename": "TypeError",
     "evalue": "'list' object is not an iterator",
     "output_type": "error",
     "traceback": [
      "\u001b[1;31m---------------------------------------------------------------------------\u001b[0m",
      "\u001b[1;31mTypeError\u001b[0m                                 Traceback (most recent call last)",
      "\u001b[1;32m~\\AppData\\Local\\Temp/ipykernel_10088/2016234150.py\u001b[0m in \u001b[0;36m<module>\u001b[1;34m\u001b[0m\n\u001b[1;32m----> 1\u001b[1;33m \u001b[0mnext\u001b[0m\u001b[1;33m(\u001b[0m\u001b[0ml\u001b[0m\u001b[1;33m)\u001b[0m\u001b[1;33m\u001b[0m\u001b[1;33m\u001b[0m\u001b[0m\n\u001b[0m",
      "\u001b[1;31mTypeError\u001b[0m: 'list' object is not an iterator"
     ]
    }
   ],
   "source": [
    "next(l)"
   ]
  },
  {
   "cell_type": "code",
   "execution_count": 46,
   "id": "f9a1b6a7",
   "metadata": {},
   "outputs": [],
   "source": [
    "def generatorSample(a):\n",
    "    l=[]\n",
    "    for i in a:\n",
    "        l.append(i**3)\n",
    "    return l"
   ]
  },
  {
   "cell_type": "code",
   "execution_count": 58,
   "id": "00a1c2bd",
   "metadata": {},
   "outputs": [
    {
     "data": {
      "text/plain": [
       "[0, 1]"
      ]
     },
     "execution_count": 58,
     "metadata": {},
     "output_type": "execute_result"
    }
   ],
   "source": [
    "generatorSample(range(2))"
   ]
  },
  {
   "cell_type": "code",
   "execution_count": 55,
   "id": "995b5fee",
   "metadata": {},
   "outputs": [],
   "source": [
    "def gencube(n) :\n",
    "    for i in range(n) : \n",
    "        yield i**3"
   ]
  },
  {
   "cell_type": "code",
   "execution_count": 56,
   "id": "902698e3",
   "metadata": {},
   "outputs": [
    {
     "data": {
      "text/plain": [
       "<generator object gencube at 0x000002A2C615B4A0>"
      ]
     },
     "execution_count": 56,
     "metadata": {},
     "output_type": "execute_result"
    }
   ],
   "source": [
    "gencube(10)"
   ]
  },
  {
   "cell_type": "code",
   "execution_count": 59,
   "id": "316db6f6",
   "metadata": {},
   "outputs": [
    {
     "name": "stdout",
     "output_type": "stream",
     "text": [
      "0\n",
      "1\n"
     ]
    }
   ],
   "source": [
    "for i in gencube(2):\n",
    "    print(i)"
   ]
  },
  {
   "cell_type": "code",
   "execution_count": null,
   "id": "e29d1558",
   "metadata": {},
   "outputs": [],
   "source": []
  },
  {
   "cell_type": "code",
   "execution_count": null,
   "id": "3621f0a0",
   "metadata": {},
   "outputs": [],
   "source": []
  }
 ],
 "metadata": {
  "kernelspec": {
   "display_name": "Python 3 (ipykernel)",
   "language": "python",
   "name": "python3"
  },
  "language_info": {
   "codemirror_mode": {
    "name": "ipython",
    "version": 3
   },
   "file_extension": ".py",
   "mimetype": "text/x-python",
   "name": "python",
   "nbconvert_exporter": "python",
   "pygments_lexer": "ipython3",
   "version": "3.9.7"
  }
 },
 "nbformat": 4,
 "nbformat_minor": 5
}
