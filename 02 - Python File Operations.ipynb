{
 "cells": [
  {
   "cell_type": "markdown",
   "id": "54b0082f",
   "metadata": {},
   "source": [
    "# File System"
   ]
  },
  {
   "cell_type": "code",
   "execution_count": 2,
   "id": "02b46dc4",
   "metadata": {},
   "outputs": [
    {
     "data": {
      "text/plain": [
       "'C:\\\\Users\\\\eraja'"
      ]
     },
     "execution_count": 2,
     "metadata": {},
     "output_type": "execute_result"
    }
   ],
   "source": [
    "pwd()"
   ]
  },
  {
   "cell_type": "code",
   "execution_count": 17,
   "id": "d6b7e695",
   "metadata": {},
   "outputs": [],
   "source": [
    "f=open(\"testfile.txt\",'r')"
   ]
  },
  {
   "cell_type": "code",
   "execution_count": 18,
   "id": "fb3e40bd",
   "metadata": {},
   "outputs": [
    {
     "data": {
      "text/plain": [
       "'Hello\\nThis is my first file\\nThanks\\nAjay'"
      ]
     },
     "execution_count": 18,
     "metadata": {},
     "output_type": "execute_result"
    }
   ],
   "source": [
    "f.read()"
   ]
  },
  {
   "cell_type": "code",
   "execution_count": 19,
   "id": "3460ad12",
   "metadata": {},
   "outputs": [
    {
     "data": {
      "text/plain": [
       "''"
      ]
     },
     "execution_count": 19,
     "metadata": {},
     "output_type": "execute_result"
    }
   ],
   "source": [
    "f.read()"
   ]
  },
  {
   "cell_type": "code",
   "execution_count": 20,
   "id": "9235b926",
   "metadata": {},
   "outputs": [
    {
     "data": {
      "text/plain": [
       "42"
      ]
     },
     "execution_count": 20,
     "metadata": {},
     "output_type": "execute_result"
    }
   ],
   "source": [
    "f.tell()"
   ]
  },
  {
   "cell_type": "code",
   "execution_count": 21,
   "id": "93f4fffd",
   "metadata": {},
   "outputs": [
    {
     "data": {
      "text/plain": [
       "0"
      ]
     },
     "execution_count": 21,
     "metadata": {},
     "output_type": "execute_result"
    }
   ],
   "source": [
    "f.seek(0)"
   ]
  },
  {
   "cell_type": "code",
   "execution_count": 22,
   "id": "6801aed9",
   "metadata": {},
   "outputs": [
    {
     "data": {
      "text/plain": [
       "'Hello\\nThis is my first file\\nThanks\\nAjay'"
      ]
     },
     "execution_count": 22,
     "metadata": {},
     "output_type": "execute_result"
    }
   ],
   "source": [
    "f.read()"
   ]
  },
  {
   "cell_type": "code",
   "execution_count": 23,
   "id": "ddd14444",
   "metadata": {},
   "outputs": [
    {
     "data": {
      "text/plain": [
       "'Hello\\n'"
      ]
     },
     "execution_count": 23,
     "metadata": {},
     "output_type": "execute_result"
    }
   ],
   "source": [
    "f.seek(0)\n",
    "f.readline()"
   ]
  },
  {
   "cell_type": "code",
   "execution_count": 24,
   "id": "d5d689dd",
   "metadata": {},
   "outputs": [],
   "source": [
    "f = open('testfile2.txt' , \"w\")"
   ]
  },
  {
   "cell_type": "code",
   "execution_count": 25,
   "id": "469d7f7c",
   "metadata": {},
   "outputs": [
    {
     "data": {
      "text/plain": [
       "4"
      ]
     },
     "execution_count": 25,
     "metadata": {},
     "output_type": "execute_result"
    }
   ],
   "source": [
    "f.write(\"abcd\")"
   ]
  },
  {
   "cell_type": "code",
   "execution_count": 26,
   "id": "9a5134e3",
   "metadata": {},
   "outputs": [],
   "source": [
    "f.close()"
   ]
  },
  {
   "cell_type": "code",
   "execution_count": 27,
   "id": "63522a49",
   "metadata": {},
   "outputs": [
    {
     "name": "stdout",
     "output_type": "stream",
     "text": [
      "Overwriting testfile3.txt\n"
     ]
    }
   ],
   "source": [
    "%%writefile testfile3.txt\n",
    "this is a data i would like to store in my file "
   ]
  },
  {
   "cell_type": "code",
   "execution_count": 15,
   "id": "931ef136",
   "metadata": {},
   "outputs": [
    {
     "name": "stdout",
     "output_type": "stream",
     "text": [
      " Volume in drive C is Acer\n",
      " Volume Serial Number is 4ADB-EDB5\n",
      "\n",
      " Directory of C:\\Users\\eraja\n",
      "\n",
      "29-01-2022  13:51    <DIR>          .\n",
      "29-01-2022  13:51    <DIR>          ..\n",
      "09-08-2021  12:40                57 .angular-config.json\n",
      "29-01-2022  13:51    <DIR>          .conda\n",
      "17-12-2021  16:06                25 .condarc\n",
      "09-08-2021  12:34    <DIR>          .config\n",
      "17-12-2021  16:05    <DIR>          .continuum\n",
      "14-01-2022  16:37    <DIR>          .dotnet\n",
      "29-01-2022  13:43    <DIR>          .ipynb_checkpoints\n",
      "17-12-2021  16:08    <DIR>          .ipython\n",
      "04-12-2021  11:06    <DIR>          .jupyter\n",
      "16-01-2022  10:49    <DIR>          .nuget\n",
      "19-01-2022  12:52    <DIR>          .rushstack\n",
      "15-01-2022  23:22    <DIR>          .templateengine\n",
      "09-08-2021  12:43    <DIR>          .vscode\n",
      "29-01-2022  13:42         2,420,280 01 - Python Code Basics.ipynb\n",
      "23-01-2022  22:52            61,058 02 - Python Class Assignment.ipynb\n",
      "29-01-2022  13:51             3,575 02 - Python File Operations.ipynb\n",
      "14-06-2021  22:00    <DIR>          3D Objects\n",
      "23-01-2022  22:45    <DIR>          anaconda3\n",
      "14-06-2021  22:00    <DIR>          Contacts\n",
      "23-01-2022  22:26    <DIR>          Documents\n",
      "29-01-2022  13:33    <DIR>          Downloads\n",
      "14-06-2021  22:00    <DIR>          Favorites\n",
      "29-01-2022  13:36            14,669 file sysetm.ipynb\n",
      "22-01-2022  13:10            25,298 for loops while loop.ipynb\n",
      "22-01-2022  13:31            30,111 Function and holiday task.ipynb\n",
      "29-01-2022  13:02            57,962 Function continued (1).ipynb\n",
      "23-01-2022  22:10            29,664 HappyKitten.jpg\n",
      "22-01-2022  13:03            48,712 if else , for loop.ipynb\n",
      "29-01-2022  13:35        21,685,773 iterator generator.ipynb\n",
      "14-06-2021  22:00    <DIR>          Links\n",
      "14-06-2021  22:00    <DIR>          Music\n",
      "09-08-2021  13:53    <DIR>          OneDrive\n",
      "22-01-2022  13:25            49,818 practice problem python basic.ipynb\n",
      "07-01-2022  16:15            69,102 Python basic (3).ipynb\n",
      "05-01-2022  13:53           132,608 Rahul Saini Developer CV.doc\n",
      "05-01-2022  13:53           606,133 Rahul Saini Developer.pdf\n",
      "14-06-2021  22:00    <DIR>          Saved Games\n",
      "14-06-2021  22:03    <DIR>          Searches\n",
      "15-01-2022  23:11    <DIR>          source\n",
      "23-01-2022  22:46            12,622 Test.docx\n",
      "29-01-2022  13:48                42 testfile.txt\n",
      "29-01-2022  13:50                 4 testfile2.txt\n",
      "29-01-2022  13:51                50 testfile3.txt\n",
      "07-01-2022  20:03            56,991 Tuples , set , dict .ipynb\n",
      "17-12-2021  16:30             3,214 Untitled.ipynb\n",
      "18-06-2021  11:44    <DIR>          Videos\n",
      "              22 File(s)     25,307,768 bytes\n",
      "              26 Dir(s)  31,844,306,944 bytes free\n"
     ]
    }
   ],
   "source": [
    "%ls"
   ]
  },
  {
   "cell_type": "code",
   "execution_count": 31,
   "id": "78dfb951",
   "metadata": {},
   "outputs": [
    {
     "name": "stdout",
     "output_type": "stream",
     "text": [
      "Hello\n",
      " This is my first file\n",
      " Thanks\n",
      " Ajay "
     ]
    }
   ],
   "source": [
    "f = open(\"testfile.txt\" , \"r+\")\n",
    "for line in f :\n",
    "    print(line , end = \" \")"
   ]
  },
  {
   "cell_type": "markdown",
   "id": "79672a24",
   "metadata": {},
   "source": [
    " r\t- Only for reading. The pointer is located at the start of file and it’s a default mode.\n",
    "rb\t- Only for reading in a binary format. The pointer is located at the start of file and it’s a default mode.\n",
    "r+\t- To opens a file for the both writing and reading. The pointer is located at the start of file.\n",
    "rb+\t- For the both writing and reading operation in binary format. The pointer is located at the start of file.\n",
    "w\t- Only for writing. Check for existing file, if its present overwrites in the exists file. If there is no any existing file then, makes a novel file for the writing.\n",
    "wb\tOnly for writing in a binary format. Check for existing file, if its present overwrites in the exists file. If there is no any existing file then, makes a novel file for the writing.\n",
    "w+\t- For the both writing and reading operation. Check for existing file, if its present overwrites in the exists file. If there is no any existing file then, makes a novel file for the writing and reading.\n",
    "wb+\t- For the both writing and reading operation in binary format. Check for existing file, if its present overwrites in the exists file. If there is no any existing file then, makes a novel file for the writing and reading.\n",
    "a\t- opens the file for appending; any data written to the file is automatically added to the end. Check for existing file, if its present pointer is set at last of existing file for appending operation. If there is no any existing file then, makes a novel file for the writing."
   ]
  },
  {
   "cell_type": "code",
   "execution_count": 32,
   "id": "adbf85e4",
   "metadata": {},
   "outputs": [],
   "source": [
    "import os"
   ]
  },
  {
   "cell_type": "code",
   "execution_count": 33,
   "id": "61f6ac07",
   "metadata": {},
   "outputs": [],
   "source": [
    "os.remove(\"testfile2.txt\")"
   ]
  },
  {
   "cell_type": "code",
   "execution_count": 34,
   "id": "4123f45f",
   "metadata": {},
   "outputs": [
    {
     "data": {
      "text/plain": [
       "'C:\\\\Users\\\\eraja'"
      ]
     },
     "execution_count": 34,
     "metadata": {},
     "output_type": "execute_result"
    }
   ],
   "source": [
    "os.getcwd()"
   ]
  },
  {
   "cell_type": "code",
   "execution_count": 35,
   "id": "80b60919",
   "metadata": {},
   "outputs": [
    {
     "data": {
      "text/plain": [
       "'C:\\\\Users\\\\eraja'"
      ]
     },
     "execution_count": 35,
     "metadata": {},
     "output_type": "execute_result"
    }
   ],
   "source": [
    "pwd()"
   ]
  },
  {
   "cell_type": "code",
   "execution_count": 36,
   "id": "e876e5eb",
   "metadata": {},
   "outputs": [
    {
     "data": {
      "text/plain": [
       "['Akshay',\n",
       " 'All Users',\n",
       " 'Default',\n",
       " 'Default User',\n",
       " 'desktop.ini',\n",
       " 'eraja',\n",
       " 'Public']"
      ]
     },
     "execution_count": 36,
     "metadata": {},
     "output_type": "execute_result"
    }
   ],
   "source": [
    "os.listdir(\"C:\\\\Users\\\\\")"
   ]
  },
  {
   "cell_type": "code",
   "execution_count": null,
   "id": "b9eb6bcf",
   "metadata": {},
   "outputs": [],
   "source": []
  }
 ],
 "metadata": {
  "kernelspec": {
   "display_name": "Python 3 (ipykernel)",
   "language": "python",
   "name": "python3"
  },
  "language_info": {
   "codemirror_mode": {
    "name": "ipython",
    "version": 3
   },
   "file_extension": ".py",
   "mimetype": "text/x-python",
   "name": "python",
   "nbconvert_exporter": "python",
   "pygments_lexer": "ipython3",
   "version": "3.9.7"
  }
 },
 "nbformat": 4,
 "nbformat_minor": 5
}
