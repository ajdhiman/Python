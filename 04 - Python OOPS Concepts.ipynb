{
 "cells": [
  {
   "cell_type": "markdown",
   "id": "c0524c5d",
   "metadata": {},
   "source": [
    "# OOPS Concepts"
   ]
  },
  {
   "cell_type": "code",
   "execution_count": 4,
   "id": "fcefed0e",
   "metadata": {},
   "outputs": [],
   "source": [
    "class car:\n",
    "    def __init__(self, name,color):\n",
    "        self.n=name\n",
    "        self.c=color\n",
    "    \n",
    "    def DrawCar(self):\n",
    "        print (\"car name is \", self.n)"
   ]
  },
  {
   "cell_type": "code",
   "execution_count": 5,
   "id": "740d27b1",
   "metadata": {},
   "outputs": [],
   "source": [
    "mycar=car(\"jeep\",\"red\")"
   ]
  },
  {
   "cell_type": "code",
   "execution_count": 6,
   "id": "0dd70de4",
   "metadata": {},
   "outputs": [
    {
     "name": "stdout",
     "output_type": "stream",
     "text": [
      "car name is  jeep\n"
     ]
    }
   ],
   "source": [
    "mycar.DrawCar();"
   ]
  },
  {
   "cell_type": "code",
   "execution_count": 7,
   "id": "51a54680",
   "metadata": {},
   "outputs": [
    {
     "data": {
      "text/plain": [
       "'jeep'"
      ]
     },
     "execution_count": 7,
     "metadata": {},
     "output_type": "execute_result"
    }
   ],
   "source": [
    "mycar.n"
   ]
  },
  {
   "cell_type": "code",
   "execution_count": 8,
   "id": "64599a2c",
   "metadata": {},
   "outputs": [
    {
     "data": {
      "text/plain": [
       "'red'"
      ]
     },
     "execution_count": 8,
     "metadata": {},
     "output_type": "execute_result"
    }
   ],
   "source": [
    "mycar.c"
   ]
  },
  {
   "cell_type": "code",
   "execution_count": 17,
   "id": "e16422ea",
   "metadata": {},
   "outputs": [],
   "source": [
    "class listOperations:\n",
    "    def __init__ (self,l):\n",
    "        self.lst=l\n",
    "    \n",
    "    def printList(self):\n",
    "        if type(self.lst) == list:\n",
    "            for i in self.lst:\n",
    "                print(i)\n",
    "    \n",
    "    def ReverseList(self):\n",
    "        if type(self.lst) == list:\n",
    "            rl=self.lst[::-1]\n",
    "            return rl"
   ]
  },
  {
   "cell_type": "code",
   "execution_count": 18,
   "id": "6c8ff51a",
   "metadata": {},
   "outputs": [],
   "source": [
    "myList= listOperations([1,2,345,35,34,5,345])"
   ]
  },
  {
   "cell_type": "code",
   "execution_count": 19,
   "id": "98b676cc",
   "metadata": {},
   "outputs": [
    {
     "name": "stdout",
     "output_type": "stream",
     "text": [
      "1\n",
      "2\n",
      "345\n",
      "35\n",
      "34\n",
      "5\n",
      "345\n"
     ]
    }
   ],
   "source": [
    "myList.printList()"
   ]
  },
  {
   "cell_type": "code",
   "execution_count": 20,
   "id": "bcda4450",
   "metadata": {},
   "outputs": [
    {
     "data": {
      "text/plain": [
       "[345, 5, 34, 35, 345, 2, 1]"
      ]
     },
     "execution_count": 20,
     "metadata": {},
     "output_type": "execute_result"
    }
   ],
   "source": [
    "myList.ReverseList()"
   ]
  },
  {
   "cell_type": "code",
   "execution_count": 21,
   "id": "00fff1be",
   "metadata": {},
   "outputs": [
    {
     "ename": "SyntaxError",
     "evalue": "invalid syntax (Temp/ipykernel_6840/1997527355.py, line 1)",
     "output_type": "error",
     "traceback": [
      "\u001b[1;36m  File \u001b[1;32m\"C:\\Users\\eraja\\AppData\\Local\\Temp/ipykernel_6840/1997527355.py\"\u001b[1;36m, line \u001b[1;32m1\u001b[0m\n\u001b[1;33m    create a class for dictonary parsing\u001b[0m\n\u001b[1;37m           ^\u001b[0m\n\u001b[1;31mSyntaxError\u001b[0m\u001b[1;31m:\u001b[0m invalid syntax\n"
     ]
    }
   ],
   "source": [
    "create a class for dictonary parsing \n",
    "\n",
    "1 . write a functoin to give all the keys\n",
    "2  .write a function to give all the values \n",
    "3 . write a function to throw an exception in case of input is not dictonary\n",
    "4. write a function to take user input and then parse a key and value out of dictonary \n",
    "5. write a function to insert new key value pair  into dictonary "
   ]
  },
  {
   "cell_type": "code",
   "execution_count": 50,
   "id": "07f6349e",
   "metadata": {},
   "outputs": [],
   "source": [
    "class DicOperations:\n",
    "    def __init__(s,dic):\n",
    "        s.d=dic\n",
    "        if type(s.d)!=dict:\n",
    "            raise Exception(s.d,\"Not a Dictionary\")\n",
    "    \n",
    "    def AllKeys(s):\n",
    "        if type(s.d)==dict:\n",
    "            return s.d.keys()\n",
    "        \n",
    "    def AllValues(s):\n",
    "        if type(s.d)==dict:\n",
    "            return s.d.values()\n",
    "    \n",
    "    def InsertKeyValue(s, k,v):\n",
    "        s.d[k]=v\n",
    "        return s.d"
   ]
  },
  {
   "cell_type": "code",
   "execution_count": 52,
   "id": "a1bc10e7",
   "metadata": {},
   "outputs": [],
   "source": [
    "myDic=DicOperations({\"a\":1,\"b\":2})"
   ]
  },
  {
   "cell_type": "code",
   "execution_count": 44,
   "id": "0a857cd4",
   "metadata": {},
   "outputs": [
    {
     "data": {
      "text/plain": [
       "dict_values([1, 2])"
      ]
     },
     "execution_count": 44,
     "metadata": {},
     "output_type": "execute_result"
    }
   ],
   "source": [
    "myDic.AllValues()"
   ]
  },
  {
   "cell_type": "code",
   "execution_count": 45,
   "id": "3b362478",
   "metadata": {},
   "outputs": [
    {
     "data": {
      "text/plain": [
       "dict_keys(['a', 'b'])"
      ]
     },
     "execution_count": 45,
     "metadata": {},
     "output_type": "execute_result"
    }
   ],
   "source": [
    "myDic.AllKeys()"
   ]
  },
  {
   "cell_type": "code",
   "execution_count": 46,
   "id": "75c2c874",
   "metadata": {},
   "outputs": [
    {
     "data": {
      "text/plain": [
       "{'a': 1, 'b': 2, 'm': 5}"
      ]
     },
     "execution_count": 46,
     "metadata": {},
     "output_type": "execute_result"
    }
   ],
   "source": [
    "myDic.InsertKeyValue(\"m\",5)"
   ]
  },
  {
   "cell_type": "code",
   "execution_count": null,
   "id": "be06ba08",
   "metadata": {},
   "outputs": [],
   "source": []
  },
  {
   "cell_type": "markdown",
   "id": "b0997a5d",
   "metadata": {},
   "source": [
    "## Inheritance"
   ]
  },
  {
   "cell_type": "code",
   "execution_count": 1,
   "id": "6ce2ea81",
   "metadata": {},
   "outputs": [],
   "source": [
    "class parent:\n",
    "    def __init__(s,name,age):\n",
    "        s.name=name\n",
    "        s.age=age\n",
    "    \n",
    "    def DefinePerson(s):\n",
    "        print(\"I am \",s.name,\" and my age is \",s.age)\n",
    "        "
   ]
  },
  {
   "cell_type": "code",
   "execution_count": 2,
   "id": "e223bf91",
   "metadata": {},
   "outputs": [],
   "source": [
    "class child(parent):\n",
    "    pass"
   ]
  },
  {
   "cell_type": "code",
   "execution_count": 3,
   "id": "3878d3bb",
   "metadata": {},
   "outputs": [],
   "source": [
    "obj=child(\"Ajay\",25)"
   ]
  },
  {
   "cell_type": "code",
   "execution_count": 93,
   "id": "80076315",
   "metadata": {},
   "outputs": [
    {
     "name": "stdout",
     "output_type": "stream",
     "text": [
      "I am  Ajay  and my age is  25\n"
     ]
    }
   ],
   "source": [
    "obj.DefinePerson()"
   ]
  },
  {
   "cell_type": "code",
   "execution_count": 14,
   "id": "8b0c8f3c",
   "metadata": {},
   "outputs": [],
   "source": [
    "class child1(parent):\n",
    "    def __init__(s,childName,childAge,citizenship,parentAge,parentName):\n",
    "        s.childName=childName\n",
    "        s.childAge=childAge\n",
    "        s.citizenship=citizenship\n",
    "        parent.__init__(s,parentName,parentAge)\n",
    "    \n",
    "    def DefineChild(s):\n",
    "        print(\"I am the \",s.childName,\" and my age is \",s.childAge,\" from \",s.citizenship)"
   ]
  },
  {
   "cell_type": "code",
   "execution_count": 15,
   "id": "671b0287",
   "metadata": {},
   "outputs": [],
   "source": [
    "obj1=child1(\"Sahil\",10,\"US\",30,\"AjayfromChild\")"
   ]
  },
  {
   "cell_type": "code",
   "execution_count": 12,
   "id": "f3f1addd",
   "metadata": {},
   "outputs": [
    {
     "data": {
      "text/plain": [
       "10"
      ]
     },
     "execution_count": 12,
     "metadata": {},
     "output_type": "execute_result"
    }
   ],
   "source": [
    "obj1.childAge"
   ]
  },
  {
   "cell_type": "code",
   "execution_count": 7,
   "id": "c57f29ca",
   "metadata": {},
   "outputs": [
    {
     "name": "stdout",
     "output_type": "stream",
     "text": [
      "I am the  Sahil  and my age is  10  from  US\n"
     ]
    }
   ],
   "source": [
    "obj1.DefineChild()"
   ]
  },
  {
   "cell_type": "code",
   "execution_count": 8,
   "id": "6e1ffa8a",
   "metadata": {},
   "outputs": [],
   "source": [
    "obj2=parent(\"Ajay\",29)"
   ]
  },
  {
   "cell_type": "code",
   "execution_count": 9,
   "id": "5ba94e2a",
   "metadata": {},
   "outputs": [
    {
     "name": "stdout",
     "output_type": "stream",
     "text": [
      "I am  Ajay  and my age is  29\n"
     ]
    }
   ],
   "source": [
    "obj2.DefinePerson()"
   ]
  },
  {
   "cell_type": "code",
   "execution_count": 16,
   "id": "8f3e2c75",
   "metadata": {
    "scrolled": true
   },
   "outputs": [
    {
     "name": "stdout",
     "output_type": "stream",
     "text": [
      "I am  AjayfromChild  and my age is  30\n"
     ]
    }
   ],
   "source": [
    "obj1.DefinePerson()"
   ]
  },
  {
   "cell_type": "code",
   "execution_count": null,
   "id": "d22d8fb5",
   "metadata": {},
   "outputs": [],
   "source": []
  },
  {
   "cell_type": "markdown",
   "id": "f058421d",
   "metadata": {},
   "source": [
    "## Multilevel Inheritance"
   ]
  },
  {
   "cell_type": "code",
   "execution_count": 18,
   "id": "05a4da63",
   "metadata": {},
   "outputs": [],
   "source": [
    "class xyz:\n",
    "    def __init__(self, a,b,c) :\n",
    "        self.a= a \n",
    "        self.b= b \n",
    "        self.c= c \n",
    "        \n",
    "    def test(self) : \n",
    "        print(\"this is a method from xyz class parent class\")\n",
    "    \n",
    "class xyz1(xyz):\n",
    "        \n",
    "    def test1(self) : \n",
    "        print(\"this is a method form class xyz1\")\n",
    "        \n",
    "class xyz2(xyz1) :\n",
    "    def test2(self) :\n",
    "        print(\"this is a method form class xyz2\")\n",
    "\n",
    "class xyz3(xyz2):\n",
    "    def test3(self) : \n",
    "        print(\"this is my method form class xyz3\")\n",
    "        "
   ]
  },
  {
   "cell_type": "code",
   "execution_count": 20,
   "id": "d06635f7",
   "metadata": {},
   "outputs": [],
   "source": [
    "xyz3Obj=xyz3(1,2,3)"
   ]
  },
  {
   "cell_type": "code",
   "execution_count": 22,
   "id": "271e2514",
   "metadata": {},
   "outputs": [
    {
     "name": "stdout",
     "output_type": "stream",
     "text": [
      "this is a meth form class xyz1\n"
     ]
    }
   ],
   "source": [
    "xyz3Obj.test1()"
   ]
  },
  {
   "cell_type": "markdown",
   "id": "6842b52b",
   "metadata": {},
   "source": [
    "## Multiple Inheritance"
   ]
  },
  {
   "cell_type": "code",
   "execution_count": 23,
   "id": "f12bb8eb",
   "metadata": {},
   "outputs": [],
   "source": [
    "class xyz:\n",
    "    def __init__(self, a,b,c) :\n",
    "        self.a= a \n",
    "        self.b= b \n",
    "        self.c= c \n",
    "        \n",
    "        \n",
    "    def test(self) : \n",
    "        print(\"this is a meth of xyz class \")\n",
    "    \n",
    "class xyz1:\n",
    "    \n",
    "    def __init__(self , p,q,v) :\n",
    "        self.p = p \n",
    "        self.v = v \n",
    "        self.q = q \n",
    "        \n",
    "    def test1(self) : \n",
    "        print(\"this is a meth form class xyz1\")\n",
    "        \n",
    "class child(xyz1,xyz):\n",
    "    def __init__(self , *args ,**kwargs):\n",
    "        xyz.__init__(self,*args) \n",
    "        xyz1.__init__(self,**kwargs)"
   ]
  },
  {
   "cell_type": "code",
   "execution_count": 24,
   "id": "601a86f4",
   "metadata": {},
   "outputs": [],
   "source": [
    "n = child(4,5,6,p = 3,q = 4,v  = 5)"
   ]
  },
  {
   "cell_type": "code",
   "execution_count": 25,
   "id": "724ca28e",
   "metadata": {},
   "outputs": [
    {
     "name": "stdout",
     "output_type": "stream",
     "text": [
      "this is a meth form class xyz1\n"
     ]
    }
   ],
   "source": [
    "n.test1()"
   ]
  },
  {
   "cell_type": "markdown",
   "id": "0f00030d",
   "metadata": {},
   "source": [
    "# Task 1"
   ]
  },
  {
   "cell_type": "code",
   "execution_count": 26,
   "id": "ee502674",
   "metadata": {},
   "outputs": [],
   "source": [
    "# Create a class to read an file and write into a given file."
   ]
  },
  {
   "cell_type": "code",
   "execution_count": 65,
   "id": "3182f6b9",
   "metadata": {},
   "outputs": [],
   "source": [
    "import logging\n",
    "logging.basicConfig(filename = \"test2.log\" , level = logging.DEBUG , format ='%(asctime)s %(levelname)s %(message)s' )\n",
    "\n",
    "class FileOperations:\n",
    "    def __init__(s,filepath):\n",
    "        s.filepath=filepath\n",
    "    \n",
    "    def Read(s):\n",
    "        try:\n",
    "            f=open(s.filepath,'r')\n",
    "            return f.read()\n",
    "        except Exception as e:\n",
    "            logging.error(e)\n",
    "    \n",
    "    def Write(s,content):\n",
    "        try:\n",
    "            f=open(s.filepath,\"r+\")\n",
    "            f.writeLines(content)\n",
    "            f.close()\n",
    "        except Exception as e:\n",
    "            logging.error(e)"
   ]
  },
  {
   "cell_type": "code",
   "execution_count": 60,
   "id": "44d9438e",
   "metadata": {},
   "outputs": [],
   "source": [
    "fObj=FileOperations(\"testfile.txt\")"
   ]
  },
  {
   "cell_type": "code",
   "execution_count": 61,
   "id": "bbdd5171",
   "metadata": {},
   "outputs": [
    {
     "data": {
      "text/plain": [
       "'HiHiHiHiHiHiHi   HiHiHiHiHiHi'"
      ]
     },
     "execution_count": 61,
     "metadata": {},
     "output_type": "execute_result"
    }
   ],
   "source": [
    "fObj.Read()"
   ]
  },
  {
   "cell_type": "code",
   "execution_count": 62,
   "id": "ce3df428",
   "metadata": {},
   "outputs": [],
   "source": [
    "fObj.Write(\"HiHiHiHiHiHiHi   HiHiHiHiHiHi\")"
   ]
  },
  {
   "cell_type": "code",
   "execution_count": 63,
   "id": "e79d7515",
   "metadata": {},
   "outputs": [
    {
     "data": {
      "text/plain": [
       "'HiHiHiHiHiHiHi   HiHiHiHiHiHi'"
      ]
     },
     "execution_count": 63,
     "metadata": {},
     "output_type": "execute_result"
    }
   ],
   "source": [
    "fObj.Read()"
   ]
  },
  {
   "cell_type": "code",
   "execution_count": 64,
   "id": "2d920471",
   "metadata": {},
   "outputs": [],
   "source": [
    "#Try to inherit read and write method form parent class to child class to perform read and write operation "
   ]
  },
  {
   "cell_type": "code",
   "execution_count": 66,
   "id": "50dabe55",
   "metadata": {},
   "outputs": [],
   "source": [
    "class childFile(FileOperations):\n",
    "    pass"
   ]
  },
  {
   "cell_type": "code",
   "execution_count": 68,
   "id": "98b5a961",
   "metadata": {},
   "outputs": [],
   "source": [
    "objChild=childFile(\"testfile.txt\")"
   ]
  },
  {
   "cell_type": "code",
   "execution_count": 69,
   "id": "e53f416c",
   "metadata": {},
   "outputs": [
    {
     "data": {
      "text/plain": [
       "'HiHiHiHiHiHiHi   HiHiHiHiHiHi'"
      ]
     },
     "execution_count": 69,
     "metadata": {},
     "output_type": "execute_result"
    }
   ],
   "source": [
    "objChild.Read()"
   ]
  },
  {
   "cell_type": "markdown",
   "id": "e88e5ae0",
   "metadata": {},
   "source": [
    "# Scope in Python Class"
   ]
  },
  {
   "cell_type": "code",
   "execution_count": 117,
   "id": "984d8130",
   "metadata": {},
   "outputs": [
    {
     "name": "stdout",
     "output_type": "stream",
     "text": [
      "Name:  R2J\n",
      "Age:  20\n"
     ]
    }
   ],
   "source": [
    "# program to illustrate public access modifier in a class\n",
    "\n",
    "class Geek:\n",
    "\n",
    "    # constructor\n",
    "    def __init__(self, name, age):\n",
    "        # public data members\n",
    "        self.geekName = name\n",
    "        self.geekAge = age\n",
    "\n",
    "    # public member function\t\n",
    "    def displayAge(self):\n",
    "        # accessing public data member\n",
    "        print(\"Age: \", self.geekAge)\n",
    "\n",
    "# creating object of the class\n",
    "obj = Geek(\"R2J\", 20)\n",
    "\n",
    "# accessing public data member\n",
    "print(\"Name: \", obj.geekName)\n",
    "\n",
    "# calling public member function of the class\n",
    "obj.displayAge()\n"
   ]
  },
  {
   "cell_type": "code",
   "execution_count": 121,
   "id": "546ebfe7",
   "metadata": {},
   "outputs": [],
   "source": [
    "# program to illustrate protected access modifier in a class\n",
    "\n",
    "# super class\n",
    "class Student:\n",
    "    # protected data members\n",
    "    _name = None\n",
    "    _roll = None\n",
    "    _branch = None\n",
    "    # constructor\n",
    "    def __init__(self, name, roll, branch):\n",
    "        self._name = name\n",
    "        self._roll = roll\n",
    "        self._branch = branch\n",
    "\n",
    "    # protected member function\n",
    "    def _displayRollAndBranch(self):\n",
    "\n",
    "        # accessing protected data members\n",
    "        print(\"Roll: \", self._roll)\n",
    "        print(\"Branch: \", self._branch)\n",
    "# derived class\n",
    "class Geek(Student):\n",
    "\n",
    "    # constructor\n",
    "    def __init__(self, name, roll, branch):\n",
    "        Student.__init__(self, name, roll, branch)\n",
    "\n",
    "    # public member function\n",
    "    def displayDetails(self):\n",
    "        # accessing protected data members of super class\n",
    "        print(\"Name: \", self._name)\n",
    "        # accessing protected member functions of super class\n",
    "        self._displayRollAndBranch()\n",
    "\n"
   ]
  },
  {
   "cell_type": "code",
   "execution_count": 122,
   "id": "321a2b67",
   "metadata": {},
   "outputs": [
    {
     "name": "stdout",
     "output_type": "stream",
     "text": [
      "Name:  R2J\n",
      "Roll:  1706256\n",
      "Branch:  Information Technology\n"
     ]
    }
   ],
   "source": [
    "# creating objects of the derived class\t\n",
    "obj = Geek(\"R2J\", 1706256, \"Information Technology\")\n"
   ]
  },
  {
   "cell_type": "code",
   "execution_count": 123,
   "id": "9058c8ab",
   "metadata": {},
   "outputs": [
    {
     "name": "stdout",
     "output_type": "stream",
     "text": [
      "Name:  R2J\n",
      "Roll:  1706256\n",
      "Branch:  Information Technology\n"
     ]
    }
   ],
   "source": [
    "\n",
    "# calling public member functions of the class\n",
    "obj.displayDetails()"
   ]
  },
  {
   "cell_type": "code",
   "execution_count": 124,
   "id": "8ca4974d",
   "metadata": {},
   "outputs": [
    {
     "name": "stdout",
     "output_type": "stream",
     "text": [
      "Name:  R2J\n",
      "Roll:  1706256\n",
      "Branch:  Information Technology\n"
     ]
    }
   ],
   "source": [
    "obj.displayDetails()"
   ]
  },
  {
   "cell_type": "code",
   "execution_count": 125,
   "id": "76d795c4",
   "metadata": {},
   "outputs": [
    {
     "name": "stdout",
     "output_type": "stream",
     "text": [
      "Name:  R2J\n",
      "Roll:  1706256\n",
      "Branch:  Information Technology\n"
     ]
    }
   ],
   "source": [
    "# program to illustrate private access modifier in a class\n",
    "\n",
    "class Geek:\n",
    "\n",
    "    # private members\n",
    "    __name = None\n",
    "    __roll = None\n",
    "    __branch = None\n",
    "\n",
    "    # constructor\n",
    "    def __init__(self, name, roll, branch):\n",
    "        self.__name = name\n",
    "        self.__roll = roll\n",
    "        self.__branch = branch\n",
    "\n",
    "    # private member function\n",
    "    def __displayDetails(self):\n",
    "            \n",
    "        # accessing private data members\n",
    "        print(\"Name: \", self.__name)\n",
    "        print(\"Roll: \", self.__roll)\n",
    "        print(\"Branch: \", self.__branch)\n",
    "\n",
    "    # public member function\n",
    "    def accessPrivateFunction(self):\n",
    "                \n",
    "        # accessing private member function\n",
    "        self.__displayDetails()\n",
    "\n"
   ]
  },
  {
   "cell_type": "code",
   "execution_count": 127,
   "id": "3635bff9",
   "metadata": {},
   "outputs": [],
   "source": [
    "# creating object\n",
    "obj = Geek(\"R2J\", 1706256, \"Information Technology\")\n",
    "\n"
   ]
  },
  {
   "cell_type": "code",
   "execution_count": 128,
   "id": "86910d01",
   "metadata": {},
   "outputs": [
    {
     "name": "stdout",
     "output_type": "stream",
     "text": [
      "Name:  R2J\n",
      "Roll:  1706256\n",
      "Branch:  Information Technology\n"
     ]
    }
   ],
   "source": [
    "# calling public member function of the class\n",
    "obj.accessPrivateFunction()\n"
   ]
  },
  {
   "cell_type": "code",
   "execution_count": null,
   "id": "7c7f96d6",
   "metadata": {},
   "outputs": [],
   "source": []
  },
  {
   "cell_type": "code",
   "execution_count": null,
   "id": "c67d9b40",
   "metadata": {},
   "outputs": [],
   "source": []
  },
  {
   "cell_type": "code",
   "execution_count": 129,
   "id": "5b746c90",
   "metadata": {},
   "outputs": [],
   "source": [
    "class test:\n",
    "    def __init__(self,a,b,c):\n",
    "        self._a = a \n",
    "        self.__b= b \n",
    "        self.c = c \n",
    "    \n",
    "class test1(test) :\n",
    "    pass"
   ]
  },
  {
   "cell_type": "code",
   "execution_count": 132,
   "id": "f3ef8985",
   "metadata": {},
   "outputs": [],
   "source": [
    "obj=test1(1,2,3)"
   ]
  },
  {
   "cell_type": "code",
   "execution_count": 133,
   "id": "bbebc729",
   "metadata": {},
   "outputs": [
    {
     "data": {
      "text/plain": [
       "3"
      ]
     },
     "execution_count": 133,
     "metadata": {},
     "output_type": "execute_result"
    }
   ],
   "source": [
    "obj.c"
   ]
  },
  {
   "cell_type": "code",
   "execution_count": 134,
   "id": "6265680e",
   "metadata": {},
   "outputs": [
    {
     "data": {
      "text/plain": [
       "1"
      ]
     },
     "execution_count": 134,
     "metadata": {},
     "output_type": "execute_result"
    }
   ],
   "source": [
    "obj._a"
   ]
  },
  {
   "cell_type": "code",
   "execution_count": 135,
   "id": "a027a508",
   "metadata": {},
   "outputs": [
    {
     "ename": "AttributeError",
     "evalue": "'test1' object has no attribute '__b'",
     "output_type": "error",
     "traceback": [
      "\u001b[1;31m---------------------------------------------------------------------------\u001b[0m",
      "\u001b[1;31mAttributeError\u001b[0m                            Traceback (most recent call last)",
      "\u001b[1;32m~\\AppData\\Local\\Temp/ipykernel_8936/1698258597.py\u001b[0m in \u001b[0;36m<module>\u001b[1;34m\u001b[0m\n\u001b[1;32m----> 1\u001b[1;33m \u001b[0mobj\u001b[0m\u001b[1;33m.\u001b[0m\u001b[0m__b\u001b[0m\u001b[1;33m\u001b[0m\u001b[1;33m\u001b[0m\u001b[0m\n\u001b[0m",
      "\u001b[1;31mAttributeError\u001b[0m: 'test1' object has no attribute '__b'"
     ]
    }
   ],
   "source": [
    "obj.__b"
   ]
  },
  {
   "cell_type": "code",
   "execution_count": 136,
   "id": "ec27d104",
   "metadata": {},
   "outputs": [
    {
     "data": {
      "text/plain": [
       "2"
      ]
     },
     "execution_count": 136,
     "metadata": {},
     "output_type": "execute_result"
    }
   ],
   "source": [
    "obj._test__b"
   ]
  },
  {
   "cell_type": "markdown",
   "id": "00666574",
   "metadata": {},
   "source": [
    "# Polymorphism Python"
   ]
  },
  {
   "cell_type": "code",
   "execution_count": 144,
   "id": "d42aa8df",
   "metadata": {},
   "outputs": [],
   "source": [
    "class insta:\n",
    "    def share(s):\n",
    "        print(\"Insta Function\")\n",
    "\n",
    "class facebook:\n",
    "    def share(s):\n",
    "        print(\"Facebook Function\")\n",
    "        \n",
    "def callFun(obj):\n",
    "    obj.share()"
   ]
  },
  {
   "cell_type": "code",
   "execution_count": 145,
   "id": "6a146243",
   "metadata": {},
   "outputs": [
    {
     "name": "stdout",
     "output_type": "stream",
     "text": [
      "Insta Function\n",
      "Facebook Function\n"
     ]
    }
   ],
   "source": [
    "i=insta()\n",
    "f=facebook()\n",
    "\n",
    "callFun(i)\n",
    "callFun(f)"
   ]
  },
  {
   "cell_type": "code",
   "execution_count": 146,
   "id": "6ab3ad5e",
   "metadata": {},
   "outputs": [],
   "source": [
    "class socialMedia:\n",
    "    def share(s):\n",
    "        print(\"Share Function -  overridable\")\n",
    "    \n",
    "    def shareParent(s):\n",
    "        print(\"Parent Share Function\")\n",
    "        \n",
    "class insta(socialMedia):\n",
    "    def share(s):\n",
    "        print(\"Insta Function\")\n",
    "\n",
    "class facebook(socialMedia):\n",
    "    def share(s):\n",
    "        print(\"Facebook Function\")"
   ]
  },
  {
   "cell_type": "code",
   "execution_count": 147,
   "id": "92dcba7b",
   "metadata": {},
   "outputs": [],
   "source": [
    "i=insta()"
   ]
  },
  {
   "cell_type": "code",
   "execution_count": 148,
   "id": "24901c1f",
   "metadata": {},
   "outputs": [
    {
     "name": "stdout",
     "output_type": "stream",
     "text": [
      "Insta Function\n"
     ]
    }
   ],
   "source": [
    "i.share()"
   ]
  },
  {
   "cell_type": "code",
   "execution_count": 149,
   "id": "60134a41",
   "metadata": {},
   "outputs": [
    {
     "name": "stdout",
     "output_type": "stream",
     "text": [
      "Parent Share Function\n"
     ]
    }
   ],
   "source": [
    "i.shareParent()"
   ]
  },
  {
   "cell_type": "markdown",
   "id": "457b2463",
   "metadata": {},
   "source": [
    "# Static Variable and Functions (with decorator)"
   ]
  },
  {
   "cell_type": "code",
   "execution_count": 150,
   "id": "d87ca3fd",
   "metadata": {},
   "outputs": [],
   "source": [
    "class A:\n",
    "    genericValue=50\n",
    "    def __init__(s,z,x):\n",
    "        s.z=z\n",
    "        s.x=x\n",
    "    "
   ]
  },
  {
   "cell_type": "code",
   "execution_count": 152,
   "id": "4750d4cb",
   "metadata": {},
   "outputs": [],
   "source": [
    "obj1=A(1,2)"
   ]
  },
  {
   "cell_type": "code",
   "execution_count": 153,
   "id": "12fabf92",
   "metadata": {},
   "outputs": [
    {
     "data": {
      "text/plain": [
       "1"
      ]
     },
     "execution_count": 153,
     "metadata": {},
     "output_type": "execute_result"
    }
   ],
   "source": [
    "obj1.z"
   ]
  },
  {
   "cell_type": "code",
   "execution_count": 154,
   "id": "402e9561",
   "metadata": {},
   "outputs": [
    {
     "data": {
      "text/plain": [
       "50"
      ]
     },
     "execution_count": 154,
     "metadata": {},
     "output_type": "execute_result"
    }
   ],
   "source": [
    "obj1.genericValue"
   ]
  },
  {
   "cell_type": "code",
   "execution_count": 155,
   "id": "e2a3d57e",
   "metadata": {},
   "outputs": [
    {
     "data": {
      "text/plain": [
       "50"
      ]
     },
     "execution_count": 155,
     "metadata": {},
     "output_type": "execute_result"
    }
   ],
   "source": [
    "A.genericValue"
   ]
  },
  {
   "cell_type": "code",
   "execution_count": 156,
   "id": "ccc4c379",
   "metadata": {},
   "outputs": [],
   "source": [
    "obj2=A(10,20)"
   ]
  },
  {
   "cell_type": "code",
   "execution_count": 158,
   "id": "d973cee7",
   "metadata": {},
   "outputs": [
    {
     "data": {
      "text/plain": [
       "10"
      ]
     },
     "execution_count": 158,
     "metadata": {},
     "output_type": "execute_result"
    }
   ],
   "source": [
    "obj2.z"
   ]
  },
  {
   "cell_type": "code",
   "execution_count": 159,
   "id": "83eb1191",
   "metadata": {},
   "outputs": [
    {
     "data": {
      "text/plain": [
       "50"
      ]
     },
     "execution_count": 159,
     "metadata": {},
     "output_type": "execute_result"
    }
   ],
   "source": [
    "A.genericValue"
   ]
  },
  {
   "cell_type": "code",
   "execution_count": 160,
   "id": "c1adb44c",
   "metadata": {},
   "outputs": [],
   "source": [
    "obj2.genericValue=25"
   ]
  },
  {
   "cell_type": "code",
   "execution_count": 161,
   "id": "fb3abedd",
   "metadata": {},
   "outputs": [
    {
     "data": {
      "text/plain": [
       "50"
      ]
     },
     "execution_count": 161,
     "metadata": {},
     "output_type": "execute_result"
    }
   ],
   "source": [
    "A.genericValue"
   ]
  },
  {
   "cell_type": "code",
   "execution_count": 162,
   "id": "442654b4",
   "metadata": {},
   "outputs": [
    {
     "data": {
      "text/plain": [
       "50"
      ]
     },
     "execution_count": 162,
     "metadata": {},
     "output_type": "execute_result"
    }
   ],
   "source": [
    "obj1.genericValue"
   ]
  },
  {
   "cell_type": "code",
   "execution_count": 163,
   "id": "5a43f35d",
   "metadata": {},
   "outputs": [
    {
     "data": {
      "text/plain": [
       "25"
      ]
     },
     "execution_count": 163,
     "metadata": {},
     "output_type": "execute_result"
    }
   ],
   "source": [
    "obj2.genericValue"
   ]
  },
  {
   "cell_type": "code",
   "execution_count": 164,
   "id": "2c90cbb9",
   "metadata": {},
   "outputs": [],
   "source": [
    "A.genericValue=35"
   ]
  },
  {
   "cell_type": "code",
   "execution_count": 165,
   "id": "b6c14bee",
   "metadata": {},
   "outputs": [
    {
     "data": {
      "text/plain": [
       "35"
      ]
     },
     "execution_count": 165,
     "metadata": {},
     "output_type": "execute_result"
    }
   ],
   "source": [
    "A.genericValue"
   ]
  },
  {
   "cell_type": "code",
   "execution_count": 166,
   "id": "8499b2ff",
   "metadata": {},
   "outputs": [
    {
     "data": {
      "text/plain": [
       "35"
      ]
     },
     "execution_count": 166,
     "metadata": {},
     "output_type": "execute_result"
    }
   ],
   "source": [
    "obj1.genericValue"
   ]
  },
  {
   "cell_type": "code",
   "execution_count": 167,
   "id": "5ac15116",
   "metadata": {},
   "outputs": [
    {
     "data": {
      "text/plain": [
       "25"
      ]
     },
     "execution_count": 167,
     "metadata": {},
     "output_type": "execute_result"
    }
   ],
   "source": [
    "obj2.genericValue"
   ]
  },
  {
   "cell_type": "code",
   "execution_count": 208,
   "id": "0ea49adb",
   "metadata": {},
   "outputs": [],
   "source": [
    "class B:\n",
    "    genericValue=50\n",
    "    def __init__(s,z,x):\n",
    "        s.z=z\n",
    "        s.x=x\n",
    "    \n",
    "    @staticmethod\n",
    "    def PrintStatic(x,i):\n",
    "        print(x+i)\n",
    "    \n",
    "    \n",
    "    def PrintStatic1(self):\n",
    "        print(self.genericValue)"
   ]
  },
  {
   "cell_type": "code",
   "execution_count": 209,
   "id": "121ba181",
   "metadata": {},
   "outputs": [],
   "source": [
    "obj=B(1,2)"
   ]
  },
  {
   "cell_type": "code",
   "execution_count": 210,
   "id": "f16fa839",
   "metadata": {},
   "outputs": [
    {
     "name": "stdout",
     "output_type": "stream",
     "text": [
      "4\n"
     ]
    }
   ],
   "source": [
    "obj.PrintStatic(2,2)"
   ]
  },
  {
   "cell_type": "code",
   "execution_count": 213,
   "id": "632abeac",
   "metadata": {},
   "outputs": [
    {
     "name": "stdout",
     "output_type": "stream",
     "text": [
      "3\n"
     ]
    }
   ],
   "source": [
    "B.PrintStatic(1,2)"
   ]
  },
  {
   "cell_type": "code",
   "execution_count": 216,
   "id": "550bdbe5",
   "metadata": {},
   "outputs": [
    {
     "name": "stdout",
     "output_type": "stream",
     "text": [
      "50\n"
     ]
    }
   ],
   "source": [
    "obj.PrintStatic1()"
   ]
  },
  {
   "cell_type": "markdown",
   "id": "716f493d",
   "metadata": {},
   "source": [
    "# Abstract Classes in Python"
   ]
  },
  {
   "cell_type": "code",
   "execution_count": 218,
   "id": "bbae9811",
   "metadata": {},
   "outputs": [],
   "source": [
    "from abc import abstractmethod\n",
    "class listOperations:\n",
    "    \n",
    "    @abstractmethod\n",
    "    def removeItem(s):\n",
    "        pass\n",
    "    \n",
    "    def addItem(s):\n",
    "        pass\n",
    "    \n",
    "    def addAndRemove(s):\n",
    "        pass\n",
    "    \n",
    "    def updateItem(s):\n",
    "        pass\n",
    "    \n",
    "    def totalItems(s):\n",
    "        pass"
   ]
  },
  {
   "cell_type": "code",
   "execution_count": null,
   "id": "f1e1b58a",
   "metadata": {},
   "outputs": [],
   "source": []
  }
 ],
 "metadata": {
  "kernelspec": {
   "display_name": "Python 3 (ipykernel)",
   "language": "python",
   "name": "python3"
  },
  "language_info": {
   "codemirror_mode": {
    "name": "ipython",
    "version": 3
   },
   "file_extension": ".py",
   "mimetype": "text/x-python",
   "name": "python",
   "nbconvert_exporter": "python",
   "pygments_lexer": "ipython3",
   "version": "3.9.7"
  }
 },
 "nbformat": 4,
 "nbformat_minor": 5
}
